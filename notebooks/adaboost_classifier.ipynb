{
 "cells": [
  {
   "cell_type": "code",
   "execution_count": 1,
   "metadata": {},
   "outputs": [],
   "source": [
    "%reload_ext autoreload\n",
    "%autoreload 2"
   ]
  },
  {
   "cell_type": "code",
   "execution_count": 2,
   "metadata": {},
   "outputs": [],
   "source": [
    "import sys\n",
    "\n",
    "sys.path.append(\"..\")"
   ]
  },
  {
   "cell_type": "code",
   "execution_count": 3,
   "metadata": {},
   "outputs": [],
   "source": [
    "import numpy as np\n",
    "import matplotlib.pyplot as plt\n",
    "\n",
    "from sklearn.datasets import load_iris\n",
    "from sklearn.model_selection import train_test_split\n",
    "from sklearn.ensemble import AdaBoostClassifier as AdaBoostClassifier_sk\n",
    "from sklearn.tree import export_text as export_text_sk\n",
    "from sklearn.tree import plot_tree as plot_tree_sk"
   ]
  },
  {
   "cell_type": "code",
   "execution_count": 4,
   "metadata": {},
   "outputs": [],
   "source": [
    "iris = load_iris()\n",
    "X, y = load_iris(return_X_y=True)"
   ]
  },
  {
   "cell_type": "code",
   "execution_count": 5,
   "metadata": {},
   "outputs": [],
   "source": [
    "X_train, X_test, y_train, y_test = train_test_split(X, y, test_size=0.3, random_state=0)"
   ]
  },
  {
   "cell_type": "code",
   "execution_count": 6,
   "metadata": {},
   "outputs": [],
   "source": [
    "from algosfromscratch.supervised_learning import AdaBoostClassifier\n",
    "from algosfromscratch.utils.tree import export_text"
   ]
  },
  {
   "cell_type": "code",
   "execution_count": 7,
   "metadata": {},
   "outputs": [],
   "source": [
    "clf = AdaBoostClassifier(n_estimators=10, learning_rate=0.8, random_state=647)"
   ]
  },
  {
   "cell_type": "code",
   "execution_count": 8,
   "metadata": {},
   "outputs": [],
   "source": [
    "clf.fit(X_train, y_train)"
   ]
  },
  {
   "cell_type": "code",
   "execution_count": 9,
   "metadata": {},
   "outputs": [],
   "source": [
    "y_pred = clf.predict(X_test)"
   ]
  },
  {
   "cell_type": "code",
   "execution_count": 10,
   "metadata": {},
   "outputs": [
    {
     "data": {
      "text/plain": [
       "array([2, 1, 0, 2, 0, 2, 0, 1, 1, 1, 1, 1, 1, 1, 1, 0, 1, 1, 0, 0, 1, 1,\n",
       "       0, 0, 1, 0, 0, 1, 1, 0, 2, 1, 0, 1, 2, 1, 0, 2, 1, 1, 2, 0, 2, 0,\n",
       "       0])"
      ]
     },
     "execution_count": 10,
     "metadata": {},
     "output_type": "execute_result"
    }
   ],
   "source": [
    "y_pred"
   ]
  },
  {
   "cell_type": "code",
   "execution_count": 11,
   "metadata": {},
   "outputs": [],
   "source": [
    "clf_sk = AdaBoostClassifier_sk(n_estimators=10, learning_rate=0.8, algorithm='SAMME', random_state=647)"
   ]
  },
  {
   "cell_type": "code",
   "execution_count": 12,
   "metadata": {},
   "outputs": [
    {
     "data": {
      "text/plain": [
       "AdaBoostClassifier(algorithm='SAMME', learning_rate=0.8, n_estimators=10,\n",
       "                   random_state=647)"
      ]
     },
     "execution_count": 12,
     "metadata": {},
     "output_type": "execute_result"
    }
   ],
   "source": [
    "clf_sk.fit(X_train, y_train)"
   ]
  },
  {
   "cell_type": "code",
   "execution_count": 13,
   "metadata": {},
   "outputs": [],
   "source": [
    "y_pred_sk = clf_sk.predict(X_test)"
   ]
  },
  {
   "cell_type": "code",
   "execution_count": 14,
   "metadata": {},
   "outputs": [
    {
     "data": {
      "text/plain": [
       "array([2, 1, 0, 2, 0, 2, 0, 1, 1, 1, 1, 1, 1, 1, 1, 0, 1, 1, 0, 0, 2, 1,\n",
       "       0, 0, 2, 0, 0, 1, 1, 0, 2, 1, 0, 2, 2, 1, 0, 2, 1, 1, 2, 0, 2, 0,\n",
       "       0])"
      ]
     },
     "execution_count": 14,
     "metadata": {},
     "output_type": "execute_result"
    }
   ],
   "source": [
    "y_pred_sk"
   ]
  },
  {
   "cell_type": "code",
   "execution_count": 15,
   "metadata": {},
   "outputs": [
    {
     "data": {
      "text/plain": [
       "array([ True,  True,  True,  True,  True,  True,  True,  True,  True,\n",
       "        True,  True,  True,  True,  True,  True,  True,  True,  True,\n",
       "        True,  True, False,  True,  True,  True, False,  True,  True,\n",
       "        True,  True,  True,  True,  True,  True, False,  True,  True,\n",
       "        True,  True,  True,  True,  True,  True,  True,  True,  True])"
      ]
     },
     "execution_count": 15,
     "metadata": {},
     "output_type": "execute_result"
    }
   ],
   "source": [
    "y_pred == y_pred_sk"
   ]
  },
  {
   "cell_type": "code",
   "execution_count": 16,
   "metadata": {},
   "outputs": [
    {
     "data": {
      "text/plain": [
       "array([1.21429658, 1.56113637, 1.7361966 , 1.800409  , 1.53748926,\n",
       "       1.21810039, 1.31617677, 1.77458047, 1.63620761, 1.07657972])"
      ]
     },
     "execution_count": 16,
     "metadata": {},
     "output_type": "execute_result"
    }
   ],
   "source": [
    "clf.estimator_weights_"
   ]
  },
  {
   "cell_type": "code",
   "execution_count": 17,
   "metadata": {},
   "outputs": [
    {
     "data": {
      "text/plain": [
       "array([0.3047619 , 0.22127128, 0.18586606, 0.17402521, 0.22640652,\n",
       "       0.30375539, 0.27846796, 0.17871492, 0.20552525, 0.34240895])"
      ]
     },
     "execution_count": 17,
     "metadata": {},
     "output_type": "execute_result"
    }
   ],
   "source": [
    "clf.estimator_errors_"
   ]
  },
  {
   "cell_type": "code",
   "execution_count": 18,
   "metadata": {},
   "outputs": [
    {
     "data": {
      "text/plain": [
       "array([1.21429658, 1.58705341, 1.90200506, 1.65433868, 1.49776533,\n",
       "       1.58603614, 1.72480323, 1.30252824, 1.58786825, 1.15295796])"
      ]
     },
     "execution_count": 18,
     "metadata": {},
     "output_type": "execute_result"
    }
   ],
   "source": [
    "clf_sk.estimator_weights_"
   ]
  },
  {
   "cell_type": "code",
   "execution_count": 19,
   "metadata": {},
   "outputs": [
    {
     "data": {
      "text/plain": [
       "array([0.3047619 , 0.2157395 , 0.15651911, 0.20184928, 0.23522135,\n",
       "       0.21595472, 0.18803076, 0.28190877, 0.21556721, 0.32124628])"
      ]
     },
     "execution_count": 19,
     "metadata": {},
     "output_type": "execute_result"
    }
   ],
   "source": [
    "clf_sk.estimator_errors_"
   ]
  },
  {
   "cell_type": "code",
   "execution_count": 20,
   "metadata": {},
   "outputs": [
    {
     "name": "stdout",
     "output_type": "stream",
     "text": [
      "|---  petal length (cm) <= 2.35\n",
      "|   |--- n_obs: 32 class: 0\n",
      "|---  petal length (cm) > 2.35\n",
      "|   |--- n_obs: 73 class: 2\n",
      "\n",
      "|---  petal length (cm) <= 5.05\n",
      "|   |--- n_obs: 86 class: 1\n",
      "|---  petal length (cm) > 5.05\n",
      "|   |--- n_obs: 19 class: 2\n",
      "\n",
      "|---  petal length (cm) <= 2.3\n",
      "|   |--- n_obs: 51 class: 0\n",
      "|---  petal length (cm) > 2.3\n",
      "|   |--- n_obs: 54 class: 1\n",
      "\n",
      "|---  petal width (cm) <= 1.45\n",
      "|   |--- n_obs: 32 class: 0\n",
      "|---  petal width (cm) > 1.45\n",
      "|   |--- n_obs: 73 class: 2\n",
      "\n",
      "|---  petal length (cm) <= 4.95\n",
      "|   |--- n_obs: 83 class: 1\n",
      "|---  petal length (cm) > 4.95\n",
      "|   |--- n_obs: 22 class: 2\n",
      "\n",
      "|---  petal width (cm) <= 0.75\n",
      "|   |--- n_obs: 29 class: 0\n",
      "|---  petal width (cm) > 0.75\n",
      "|   |--- n_obs: 76 class: 1\n",
      "\n",
      "|---  petal width (cm) <= 1.55\n",
      "|   |--- n_obs: 46 class: 1\n",
      "|---  petal width (cm) > 1.55\n",
      "|   |--- n_obs: 59 class: 2\n",
      "\n",
      "|---  petal width (cm) <= 0.7\n",
      "|   |--- n_obs: 41 class: 0\n",
      "|---  petal width (cm) > 0.7\n",
      "|   |--- n_obs: 64 class: 2\n",
      "\n",
      "|---  petal width (cm) <= 0.75\n",
      "|   |--- n_obs: 23 class: 0\n",
      "|---  petal width (cm) > 0.75\n",
      "|   |--- n_obs: 82 class: 1\n",
      "\n",
      "|---  petal width (cm) <= 1.75\n",
      "|   |--- n_obs: 64 class: 1\n",
      "|---  petal width (cm) > 1.75\n",
      "|   |--- n_obs: 41 class: 2\n",
      "\n"
     ]
    }
   ],
   "source": [
    "for e in clf.estimators_:\n",
    "    print(export_text(e.root, feature_names=iris['feature_names']))"
   ]
  },
  {
   "cell_type": "code",
   "execution_count": 21,
   "metadata": {},
   "outputs": [
    {
     "name": "stdout",
     "output_type": "stream",
     "text": [
      "|--- petal length (cm) <= 2.35\n",
      "|   |--- weights: [0.32, 0.00, 0.00] class: 0\n",
      "|--- petal length (cm) >  2.35\n",
      "|   |--- weights: [0.00, 0.30, 0.37] class: 2\n",
      "\n",
      "|--- petal width (cm) <= 0.75\n",
      "|   |--- weights: [0.19, 0.00, 0.00] class: 0\n",
      "|--- petal width (cm) >  0.75\n",
      "|   |--- weights: [0.00, 0.60, 0.22] class: 1\n",
      "\n",
      "|--- petal length (cm) <= 4.95\n",
      "|   |--- weights: [0.10, 0.31, 0.04] class: 1\n",
      "|--- petal length (cm) >  4.95\n",
      "|   |--- weights: [0.00, 0.01, 0.53] class: 2\n",
      "\n",
      "|--- petal width (cm) <= 0.75\n",
      "|   |--- weights: [0.36, 0.00, 0.00] class: 0\n",
      "|--- petal width (cm) >  0.75\n",
      "|   |--- weights: [0.00, 0.20, 0.44] class: 2\n",
      "\n",
      "|--- petal width (cm) <= 0.75\n",
      "|   |--- weights: [0.20, 0.00, 0.00] class: 0\n",
      "|--- petal width (cm) >  0.75\n",
      "|   |--- weights: [0.00, 0.57, 0.24] class: 1\n",
      "\n",
      "|--- petal width (cm) <= 1.75\n",
      "|   |--- weights: [0.11, 0.31, 0.10] class: 1\n",
      "|--- petal width (cm) >  1.75\n",
      "|   |--- weights: [0.00, 0.01, 0.48] class: 2\n",
      "\n",
      "|--- petal length (cm) <= 2.35\n",
      "|   |--- weights: [0.29, 0.00, 0.00] class: 0\n",
      "|--- petal length (cm) >  2.35\n",
      "|   |--- weights: [0.00, 0.19, 0.53] class: 2\n",
      "\n",
      "|--- petal width (cm) <= 0.75\n",
      "|   |--- weights: [0.15, 0.00, 0.00] class: 0\n",
      "|--- petal width (cm) >  0.75\n",
      "|   |--- weights: [0.00, 0.57, 0.28] class: 1\n",
      "\n",
      "|--- petal width (cm) <= 1.45\n",
      "|   |--- weights: [0.09, 0.19, 0.00] class: 1\n",
      "|--- petal width (cm) >  1.45\n",
      "|   |--- weights: [0.00, 0.13, 0.59] class: 2\n",
      "\n",
      "|--- petal width (cm) <= 0.75\n",
      "|   |--- weights: [0.23, 0.00, 0.00] class: 0\n",
      "|--- petal width (cm) >  0.75\n",
      "|   |--- weights: [0.00, 0.45, 0.32] class: 1\n",
      "\n"
     ]
    }
   ],
   "source": [
    "for e in clf_sk.estimators_:\n",
    "    print(export_text_sk(e, feature_names=iris['feature_names'], show_weights=True))"
   ]
  },
  {
   "cell_type": "markdown",
   "metadata": {},
   "source": [
    "# Titanic"
   ]
  },
  {
   "cell_type": "code",
   "execution_count": 22,
   "metadata": {},
   "outputs": [],
   "source": [
    "import pandas as pd"
   ]
  },
  {
   "cell_type": "code",
   "execution_count": 23,
   "metadata": {},
   "outputs": [],
   "source": [
    "df = pd.read_csv('../data/titanic.csv')"
   ]
  },
  {
   "cell_type": "code",
   "execution_count": 24,
   "metadata": {},
   "outputs": [
    {
     "data": {
      "text/html": [
       "<div>\n",
       "<style scoped>\n",
       "    .dataframe tbody tr th:only-of-type {\n",
       "        vertical-align: middle;\n",
       "    }\n",
       "\n",
       "    .dataframe tbody tr th {\n",
       "        vertical-align: top;\n",
       "    }\n",
       "\n",
       "    .dataframe thead th {\n",
       "        text-align: right;\n",
       "    }\n",
       "</style>\n",
       "<table border=\"1\" class=\"dataframe\">\n",
       "  <thead>\n",
       "    <tr style=\"text-align: right;\">\n",
       "      <th></th>\n",
       "      <th>Survived</th>\n",
       "      <th>Pclass</th>\n",
       "      <th>Name</th>\n",
       "      <th>Sex</th>\n",
       "      <th>Age</th>\n",
       "      <th>Siblings/Spouses Aboard</th>\n",
       "      <th>Parents/Children Aboard</th>\n",
       "      <th>Fare</th>\n",
       "    </tr>\n",
       "  </thead>\n",
       "  <tbody>\n",
       "    <tr>\n",
       "      <th>0</th>\n",
       "      <td>0</td>\n",
       "      <td>3</td>\n",
       "      <td>Mr. Owen Harris Braund</td>\n",
       "      <td>male</td>\n",
       "      <td>22.0</td>\n",
       "      <td>1</td>\n",
       "      <td>0</td>\n",
       "      <td>7.2500</td>\n",
       "    </tr>\n",
       "    <tr>\n",
       "      <th>1</th>\n",
       "      <td>1</td>\n",
       "      <td>1</td>\n",
       "      <td>Mrs. John Bradley (Florence Briggs Thayer) Cum...</td>\n",
       "      <td>female</td>\n",
       "      <td>38.0</td>\n",
       "      <td>1</td>\n",
       "      <td>0</td>\n",
       "      <td>71.2833</td>\n",
       "    </tr>\n",
       "    <tr>\n",
       "      <th>2</th>\n",
       "      <td>1</td>\n",
       "      <td>3</td>\n",
       "      <td>Miss. Laina Heikkinen</td>\n",
       "      <td>female</td>\n",
       "      <td>26.0</td>\n",
       "      <td>0</td>\n",
       "      <td>0</td>\n",
       "      <td>7.9250</td>\n",
       "    </tr>\n",
       "    <tr>\n",
       "      <th>3</th>\n",
       "      <td>1</td>\n",
       "      <td>1</td>\n",
       "      <td>Mrs. Jacques Heath (Lily May Peel) Futrelle</td>\n",
       "      <td>female</td>\n",
       "      <td>35.0</td>\n",
       "      <td>1</td>\n",
       "      <td>0</td>\n",
       "      <td>53.1000</td>\n",
       "    </tr>\n",
       "    <tr>\n",
       "      <th>4</th>\n",
       "      <td>0</td>\n",
       "      <td>3</td>\n",
       "      <td>Mr. William Henry Allen</td>\n",
       "      <td>male</td>\n",
       "      <td>35.0</td>\n",
       "      <td>0</td>\n",
       "      <td>0</td>\n",
       "      <td>8.0500</td>\n",
       "    </tr>\n",
       "    <tr>\n",
       "      <th>...</th>\n",
       "      <td>...</td>\n",
       "      <td>...</td>\n",
       "      <td>...</td>\n",
       "      <td>...</td>\n",
       "      <td>...</td>\n",
       "      <td>...</td>\n",
       "      <td>...</td>\n",
       "      <td>...</td>\n",
       "    </tr>\n",
       "    <tr>\n",
       "      <th>882</th>\n",
       "      <td>0</td>\n",
       "      <td>2</td>\n",
       "      <td>Rev. Juozas Montvila</td>\n",
       "      <td>male</td>\n",
       "      <td>27.0</td>\n",
       "      <td>0</td>\n",
       "      <td>0</td>\n",
       "      <td>13.0000</td>\n",
       "    </tr>\n",
       "    <tr>\n",
       "      <th>883</th>\n",
       "      <td>1</td>\n",
       "      <td>1</td>\n",
       "      <td>Miss. Margaret Edith Graham</td>\n",
       "      <td>female</td>\n",
       "      <td>19.0</td>\n",
       "      <td>0</td>\n",
       "      <td>0</td>\n",
       "      <td>30.0000</td>\n",
       "    </tr>\n",
       "    <tr>\n",
       "      <th>884</th>\n",
       "      <td>0</td>\n",
       "      <td>3</td>\n",
       "      <td>Miss. Catherine Helen Johnston</td>\n",
       "      <td>female</td>\n",
       "      <td>7.0</td>\n",
       "      <td>1</td>\n",
       "      <td>2</td>\n",
       "      <td>23.4500</td>\n",
       "    </tr>\n",
       "    <tr>\n",
       "      <th>885</th>\n",
       "      <td>1</td>\n",
       "      <td>1</td>\n",
       "      <td>Mr. Karl Howell Behr</td>\n",
       "      <td>male</td>\n",
       "      <td>26.0</td>\n",
       "      <td>0</td>\n",
       "      <td>0</td>\n",
       "      <td>30.0000</td>\n",
       "    </tr>\n",
       "    <tr>\n",
       "      <th>886</th>\n",
       "      <td>0</td>\n",
       "      <td>3</td>\n",
       "      <td>Mr. Patrick Dooley</td>\n",
       "      <td>male</td>\n",
       "      <td>32.0</td>\n",
       "      <td>0</td>\n",
       "      <td>0</td>\n",
       "      <td>7.7500</td>\n",
       "    </tr>\n",
       "  </tbody>\n",
       "</table>\n",
       "<p>887 rows × 8 columns</p>\n",
       "</div>"
      ],
      "text/plain": [
       "     Survived  Pclass                                               Name  \\\n",
       "0           0       3                             Mr. Owen Harris Braund   \n",
       "1           1       1  Mrs. John Bradley (Florence Briggs Thayer) Cum...   \n",
       "2           1       3                              Miss. Laina Heikkinen   \n",
       "3           1       1        Mrs. Jacques Heath (Lily May Peel) Futrelle   \n",
       "4           0       3                            Mr. William Henry Allen   \n",
       "..        ...     ...                                                ...   \n",
       "882         0       2                               Rev. Juozas Montvila   \n",
       "883         1       1                        Miss. Margaret Edith Graham   \n",
       "884         0       3                     Miss. Catherine Helen Johnston   \n",
       "885         1       1                               Mr. Karl Howell Behr   \n",
       "886         0       3                                 Mr. Patrick Dooley   \n",
       "\n",
       "        Sex   Age  Siblings/Spouses Aboard  Parents/Children Aboard     Fare  \n",
       "0      male  22.0                        1                        0   7.2500  \n",
       "1    female  38.0                        1                        0  71.2833  \n",
       "2    female  26.0                        0                        0   7.9250  \n",
       "3    female  35.0                        1                        0  53.1000  \n",
       "4      male  35.0                        0                        0   8.0500  \n",
       "..      ...   ...                      ...                      ...      ...  \n",
       "882    male  27.0                        0                        0  13.0000  \n",
       "883  female  19.0                        0                        0  30.0000  \n",
       "884  female   7.0                        1                        2  23.4500  \n",
       "885    male  26.0                        0                        0  30.0000  \n",
       "886    male  32.0                        0                        0   7.7500  \n",
       "\n",
       "[887 rows x 8 columns]"
      ]
     },
     "execution_count": 24,
     "metadata": {},
     "output_type": "execute_result"
    }
   ],
   "source": [
    "df"
   ]
  },
  {
   "cell_type": "code",
   "execution_count": 25,
   "metadata": {},
   "outputs": [],
   "source": [
    "X = df[['Pclass', 'Sex', 'Age', 'Siblings/Spouses Aboard', 'Parents/Children Aboard', 'Fare']].to_numpy()\n",
    "\n",
    "# Make female 1 and male 0\n",
    "X[:,1] = [0 if s == 'female' else 1 for s in X[:,1]]"
   ]
  },
  {
   "cell_type": "code",
   "execution_count": 26,
   "metadata": {},
   "outputs": [],
   "source": [
    "y = df['Survived'].to_numpy()"
   ]
  },
  {
   "cell_type": "code",
   "execution_count": 27,
   "metadata": {},
   "outputs": [],
   "source": [
    "X_train, X_test, y_train, y_test = train_test_split(X, y, test_size=0.5, random_state=0)"
   ]
  },
  {
   "cell_type": "code",
   "execution_count": 28,
   "metadata": {},
   "outputs": [],
   "source": [
    "clf = AdaBoostClassifier(n_estimators=100, learning_rate=0.8, random_state=647)"
   ]
  },
  {
   "cell_type": "code",
   "execution_count": 29,
   "metadata": {
    "scrolled": false
   },
   "outputs": [],
   "source": [
    "clf.fit(X_train, y_train)"
   ]
  },
  {
   "cell_type": "code",
   "execution_count": 30,
   "metadata": {},
   "outputs": [],
   "source": [
    "y_pred = clf.predict(X_test)"
   ]
  },
  {
   "cell_type": "code",
   "execution_count": 31,
   "metadata": {},
   "outputs": [],
   "source": [
    "clf_sk = AdaBoostClassifier_sk(n_estimators=100, learning_rate=0.8, algorithm='SAMME', random_state=647)"
   ]
  },
  {
   "cell_type": "code",
   "execution_count": 32,
   "metadata": {
    "scrolled": false
   },
   "outputs": [
    {
     "data": {
      "text/plain": [
       "AdaBoostClassifier(algorithm='SAMME', learning_rate=0.8, n_estimators=100,\n",
       "                   random_state=647)"
      ]
     },
     "execution_count": 32,
     "metadata": {},
     "output_type": "execute_result"
    }
   ],
   "source": [
    "clf_sk.fit(X_train, y_train)"
   ]
  },
  {
   "cell_type": "code",
   "execution_count": 33,
   "metadata": {},
   "outputs": [],
   "source": [
    "y_pred_sk = clf_sk.predict(X_test)"
   ]
  },
  {
   "cell_type": "code",
   "execution_count": 34,
   "metadata": {},
   "outputs": [
    {
     "data": {
      "text/plain": [
       "array([ True,  True,  True,  True, False,  True,  True,  True,  True,\n",
       "        True,  True,  True,  True,  True,  True,  True,  True,  True,\n",
       "        True,  True,  True,  True,  True,  True, False,  True,  True,\n",
       "        True,  True,  True,  True,  True,  True,  True,  True,  True,\n",
       "        True,  True,  True,  True,  True,  True,  True,  True,  True,\n",
       "        True,  True,  True,  True,  True,  True,  True,  True,  True,\n",
       "        True,  True,  True,  True,  True,  True,  True,  True,  True,\n",
       "        True,  True,  True,  True,  True,  True,  True, False,  True,\n",
       "        True,  True,  True,  True,  True,  True,  True,  True,  True,\n",
       "        True,  True,  True,  True,  True,  True,  True,  True,  True,\n",
       "        True,  True,  True,  True,  True,  True,  True,  True,  True,\n",
       "        True,  True,  True, False,  True,  True,  True,  True,  True,\n",
       "        True,  True,  True,  True,  True,  True,  True,  True,  True,\n",
       "        True,  True,  True,  True,  True,  True,  True,  True,  True,\n",
       "        True, False, False,  True, False,  True,  True,  True,  True,\n",
       "        True, False,  True,  True,  True,  True,  True,  True,  True,\n",
       "        True,  True,  True,  True,  True,  True,  True,  True, False,\n",
       "        True,  True,  True,  True,  True,  True,  True,  True,  True,\n",
       "        True,  True,  True,  True,  True,  True,  True,  True,  True,\n",
       "        True,  True,  True,  True,  True,  True,  True,  True,  True,\n",
       "        True,  True,  True,  True,  True,  True,  True,  True,  True,\n",
       "        True,  True, False,  True,  True,  True,  True,  True,  True,\n",
       "        True,  True,  True,  True,  True,  True,  True,  True,  True,\n",
       "        True,  True,  True,  True,  True,  True,  True,  True,  True,\n",
       "        True,  True,  True,  True,  True,  True,  True,  True,  True,\n",
       "        True,  True,  True,  True,  True,  True,  True,  True, False,\n",
       "        True,  True,  True,  True,  True,  True,  True,  True,  True,\n",
       "       False,  True,  True,  True,  True,  True,  True,  True,  True,\n",
       "        True,  True,  True,  True,  True,  True,  True,  True,  True,\n",
       "        True,  True,  True,  True,  True,  True,  True,  True,  True,\n",
       "        True,  True,  True,  True,  True,  True,  True,  True,  True,\n",
       "        True,  True,  True,  True,  True,  True,  True,  True,  True,\n",
       "        True,  True,  True,  True,  True,  True,  True,  True,  True,\n",
       "        True,  True,  True,  True,  True,  True,  True,  True,  True,\n",
       "        True,  True,  True,  True,  True,  True,  True,  True,  True,\n",
       "        True,  True,  True,  True,  True,  True,  True,  True,  True,\n",
       "        True,  True,  True,  True,  True,  True,  True,  True,  True,\n",
       "        True,  True,  True,  True,  True,  True,  True,  True,  True,\n",
       "        True,  True,  True,  True, False,  True,  True,  True,  True,\n",
       "        True,  True,  True,  True,  True,  True, False,  True,  True,\n",
       "        True,  True,  True,  True,  True,  True,  True,  True,  True,\n",
       "        True,  True,  True,  True,  True,  True,  True,  True,  True,\n",
       "        True,  True,  True,  True,  True,  True,  True,  True,  True,\n",
       "        True,  True, False,  True,  True,  True,  True,  True,  True,\n",
       "        True,  True,  True,  True,  True,  True,  True,  True,  True,\n",
       "        True,  True,  True,  True,  True,  True,  True,  True,  True,\n",
       "       False,  True,  True,  True,  True,  True, False, False,  True,\n",
       "        True,  True,  True,  True,  True,  True,  True,  True,  True,\n",
       "        True,  True,  True,  True,  True,  True,  True,  True,  True,\n",
       "        True,  True,  True])"
      ]
     },
     "execution_count": 34,
     "metadata": {},
     "output_type": "execute_result"
    }
   ],
   "source": [
    "y_pred == y_pred_sk"
   ]
  },
  {
   "cell_type": "code",
   "execution_count": 35,
   "metadata": {},
   "outputs": [
    {
     "data": {
      "text/plain": [
       "array([0.22573363, 0.38574093, 0.3705298 , 0.40722652, 0.47931857,\n",
       "       0.4561147 , 0.45094045, 0.48182184, 0.44756656, 0.48215268,\n",
       "       0.47669339, 0.47925757, 0.48354915, 0.47206417, 0.48652911,\n",
       "       0.47408448, 0.44650916, 0.46731863, 0.47916991, 0.45954717,\n",
       "       0.489741  , 0.4587026 , 0.48985172, 0.4892124 , 0.50663558,\n",
       "       0.4827233 , 0.4593135 , 0.47136969, 0.48807177, 0.46500118,\n",
       "       0.47577156, 0.47558395, 0.47698939, 0.47077173, 0.47814326,\n",
       "       0.48645939, 0.48029976, 0.44245206, 0.48436354, 0.48100979,\n",
       "       0.47161944, 0.49538909, 0.45979545, 0.46945093, 0.50740508,\n",
       "       0.47817431, 0.49443467, 0.49021073, 0.48440719, 0.47225466,\n",
       "       0.49552762, 0.46935527, 0.48374242, 0.5011801 , 0.49105267,\n",
       "       0.48668331, 0.47974434, 0.48001508, 0.47643288, 0.46266468,\n",
       "       0.49302171, 0.46466398, 0.5001962 , 0.49331572, 0.47749408,\n",
       "       0.50753061, 0.49034352, 0.4885253 , 0.48540842, 0.47440882,\n",
       "       0.47492392, 0.48836435, 0.50000747, 0.47133568, 0.48644013,\n",
       "       0.49475694, 0.50104865, 0.48360658, 0.47719092, 0.48884234,\n",
       "       0.48214624, 0.50109171, 0.4945385 , 0.49784008, 0.4849957 ,\n",
       "       0.48924631, 0.50141417, 0.48984887, 0.47686381, 0.48134076,\n",
       "       0.48694643, 0.50261128, 0.50052226, 0.49137479, 0.4880152 ,\n",
       "       0.50268222, 0.49031529, 0.50808597, 0.47459056, 0.48210241])"
      ]
     },
     "execution_count": 35,
     "metadata": {},
     "output_type": "execute_result"
    }
   ],
   "source": [
    "clf.estimator_errors_"
   ]
  },
  {
   "cell_type": "code",
   "execution_count": 36,
   "metadata": {},
   "outputs": [
    {
     "data": {
      "text/plain": [
       "array([0.22573363, 0.34494019, 0.43450839, 0.39091556, 0.43215253,\n",
       "       0.45351045, 0.44258008, 0.46294882, 0.48285012, 0.43841174,\n",
       "       0.4670365 , 0.45941952, 0.49186673, 0.4693662 , 0.47999182,\n",
       "       0.46331835, 0.48595296, 0.49311384, 0.49178642, 0.49217596,\n",
       "       0.49221472, 0.49232165, 0.492412  , 0.48136798, 0.48426152,\n",
       "       0.4919828 , 0.4884475 , 0.49381398, 0.49282342, 0.48867005,\n",
       "       0.48985153, 0.49369191, 0.49300674, 0.49323489, 0.48296609,\n",
       "       0.48560687, 0.48774185, 0.48610019, 0.49059879, 0.48998508,\n",
       "       0.49433532, 0.49353378, 0.49377173, 0.49379816, 0.49386587,\n",
       "       0.49392383, 0.49398238, 0.49403948, 0.48961235, 0.48132541,\n",
       "       0.48763609, 0.48085342, 0.48275175, 0.48757566, 0.46703292,\n",
       "       0.47988441, 0.49402528, 0.49474757, 0.49465672, 0.49472897,\n",
       "       0.49476743, 0.49481182, 0.49379108, 0.49008945, 0.49583376,\n",
       "       0.48693195, 0.48541751, 0.49199066, 0.49093318, 0.49597395,\n",
       "       0.49045219, 0.48791086, 0.49663691, 0.49492216, 0.49531138,\n",
       "       0.49527593, 0.49532541, 0.48994268, 0.49119285, 0.493695  ,\n",
       "       0.48628158, 0.48466538, 0.48291566, 0.48560659, 0.49315126,\n",
       "       0.49595958, 0.49543255, 0.49557689, 0.49558545, 0.49562084,\n",
       "       0.49565031, 0.49568047, 0.49069809, 0.49184328, 0.48219592,\n",
       "       0.47991873, 0.48581964, 0.48538341, 0.48547865, 0.48343387])"
      ]
     },
     "execution_count": 36,
     "metadata": {},
     "output_type": "execute_result"
    }
   ],
   "source": [
    "clf_sk.estimator_errors_"
   ]
  },
  {
   "cell_type": "code",
   "execution_count": 37,
   "metadata": {},
   "outputs": [],
   "source": [
    "from sklearn.metrics import accuracy_score"
   ]
  },
  {
   "cell_type": "code",
   "execution_count": 38,
   "metadata": {},
   "outputs": [
    {
     "data": {
      "text/plain": [
       "0.8243243243243243"
      ]
     },
     "execution_count": 38,
     "metadata": {},
     "output_type": "execute_result"
    }
   ],
   "source": [
    "accuracy_score(y_pred, y_test)"
   ]
  },
  {
   "cell_type": "code",
   "execution_count": 39,
   "metadata": {},
   "outputs": [
    {
     "data": {
      "text/plain": [
       "0.8243243243243243"
      ]
     },
     "execution_count": 39,
     "metadata": {},
     "output_type": "execute_result"
    }
   ],
   "source": [
    "accuracy_score(y_pred_sk, y_test)"
   ]
  }
 ],
 "metadata": {
  "kernelspec": {
   "display_name": "Python 3",
   "language": "python",
   "name": "python3"
  },
  "language_info": {
   "codemirror_mode": {
    "name": "ipython",
    "version": 3
   },
   "file_extension": ".py",
   "mimetype": "text/x-python",
   "name": "python",
   "nbconvert_exporter": "python",
   "pygments_lexer": "ipython3",
   "version": "3.8.3"
  }
 },
 "nbformat": 4,
 "nbformat_minor": 4
}
