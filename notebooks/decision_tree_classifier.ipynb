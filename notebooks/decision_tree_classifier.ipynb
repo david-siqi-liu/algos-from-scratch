{
 "cells": [
  {
   "cell_type": "code",
   "execution_count": 1,
   "metadata": {},
   "outputs": [],
   "source": [
    "%reload_ext autoreload\n",
    "%autoreload 2"
   ]
  },
  {
   "cell_type": "code",
   "execution_count": 2,
   "metadata": {},
   "outputs": [],
   "source": [
    "import sys\n",
    "\n",
    "sys.path.append(\"..\")"
   ]
  },
  {
   "cell_type": "code",
   "execution_count": 3,
   "metadata": {},
   "outputs": [],
   "source": [
    "import numpy as np\n",
    "import matplotlib.pyplot as plt\n",
    "\n",
    "from sklearn.datasets import load_iris\n",
    "from sklearn.model_selection import train_test_split\n",
    "from sklearn.tree import DecisionTreeClassifier as DecisionTreeClassifier_sk\n",
    "from sklearn.tree import export_text as export_text_sk\n",
    "from sklearn.tree import plot_tree as plot_tree_sk"
   ]
  },
  {
   "cell_type": "code",
   "execution_count": 4,
   "metadata": {},
   "outputs": [],
   "source": [
    "iris = load_iris()\n",
    "X, y = load_iris(return_X_y=True)"
   ]
  },
  {
   "cell_type": "code",
   "execution_count": 5,
   "metadata": {},
   "outputs": [
    {
     "data": {
      "text/plain": [
       "array([0, 1, 2])"
      ]
     },
     "execution_count": 5,
     "metadata": {},
     "output_type": "execute_result"
    }
   ],
   "source": [
    "np.unique(y)"
   ]
  },
  {
   "cell_type": "code",
   "execution_count": 6,
   "metadata": {},
   "outputs": [
    {
     "data": {
      "text/plain": [
       "((150, 4), (150,))"
      ]
     },
     "execution_count": 6,
     "metadata": {},
     "output_type": "execute_result"
    }
   ],
   "source": [
    "X.shape, y.shape"
   ]
  },
  {
   "cell_type": "code",
   "execution_count": 7,
   "metadata": {},
   "outputs": [],
   "source": [
    "X_train, X_test, y_train, y_test = train_test_split(X, y, test_size=0.3, random_state=0)"
   ]
  },
  {
   "cell_type": "code",
   "execution_count": 8,
   "metadata": {},
   "outputs": [],
   "source": [
    "from algosfromscratch.supervised_learning import DecisionTreeClassifier"
   ]
  },
  {
   "cell_type": "code",
   "execution_count": 9,
   "metadata": {},
   "outputs": [],
   "source": [
    "clf = DecisionTreeClassifier(criterion='gini', max_depth=None, min_samples_split=2, min_impurity_decrease=0.0)"
   ]
  },
  {
   "cell_type": "code",
   "execution_count": 10,
   "metadata": {},
   "outputs": [],
   "source": [
    "clf.fit(X_train, y_train)"
   ]
  },
  {
   "cell_type": "code",
   "execution_count": 11,
   "metadata": {},
   "outputs": [],
   "source": [
    "from algosfromscratch.utils.tree import export_text"
   ]
  },
  {
   "cell_type": "code",
   "execution_count": 12,
   "metadata": {},
   "outputs": [
    {
     "name": "stdout",
     "output_type": "stream",
     "text": [
      "|---  petal length (cm) <= 2.35\n",
      "|   |--- class: 0\n",
      "|---  petal length (cm) > 2.35\n",
      "|   |---  petal length (cm) <= 4.95\n",
      "|   |   |---  petal width (cm) <= 1.65\n",
      "|   |   |   |--- class: 1\n",
      "|   |   |---  petal width (cm) > 1.65\n",
      "|   |   |   |---  sepal width (cm) <= 3.1\n",
      "|   |   |   |   |--- class: 2\n",
      "|   |   |   |---  sepal width (cm) > 3.1\n",
      "|   |   |   |   |--- class: 1\n",
      "|   |---  petal length (cm) > 4.95\n",
      "|   |   |---  petal length (cm) <= 5.05\n",
      "|   |   |   |---  sepal length (cm) <= 6.5\n",
      "|   |   |   |   |--- class: 2\n",
      "|   |   |   |---  sepal length (cm) > 6.5\n",
      "|   |   |   |   |--- class: 1\n",
      "|   |   |---  petal length (cm) > 5.05\n",
      "|   |   |   |--- class: 2\n",
      "\n"
     ]
    }
   ],
   "source": [
    "print(export_text(clf.root, feature_names=iris['feature_names']))"
   ]
  },
  {
   "cell_type": "code",
   "execution_count": 13,
   "metadata": {},
   "outputs": [],
   "source": [
    "y_pred = clf.predict(X_test)"
   ]
  },
  {
   "cell_type": "code",
   "execution_count": 14,
   "metadata": {},
   "outputs": [
    {
     "data": {
      "text/plain": [
       "array([2, 1, 0, 2, 0, 2, 0, 1, 1, 1, 2, 1, 1, 1, 1, 0, 1, 1, 0, 0, 2, 1,\n",
       "       0, 0, 2, 0, 0, 1, 1, 0, 2, 1, 0, 2, 2, 1, 0, 2, 1, 1, 2, 0, 2, 0,\n",
       "       0])"
      ]
     },
     "execution_count": 14,
     "metadata": {},
     "output_type": "execute_result"
    }
   ],
   "source": [
    "y_pred"
   ]
  },
  {
   "cell_type": "code",
   "execution_count": 15,
   "metadata": {},
   "outputs": [],
   "source": [
    "clf_sk = DecisionTreeClassifier_sk(criterion='gini', max_depth=None, min_samples_split=2, min_impurity_decrease=0.0)"
   ]
  },
  {
   "cell_type": "code",
   "execution_count": 16,
   "metadata": {},
   "outputs": [
    {
     "data": {
      "text/plain": [
       "DecisionTreeClassifier()"
      ]
     },
     "execution_count": 16,
     "metadata": {},
     "output_type": "execute_result"
    }
   ],
   "source": [
    "clf_sk.fit(X_train, y_train)"
   ]
  },
  {
   "cell_type": "code",
   "execution_count": 17,
   "metadata": {},
   "outputs": [],
   "source": [
    "y_pred_sk = clf_sk.predict(X_test)"
   ]
  },
  {
   "cell_type": "code",
   "execution_count": 18,
   "metadata": {},
   "outputs": [
    {
     "data": {
      "text/plain": [
       "array([2, 1, 0, 2, 0, 2, 0, 1, 1, 1, 2, 1, 1, 1, 1, 0, 1, 1, 0, 0, 2, 1,\n",
       "       0, 0, 2, 0, 0, 1, 1, 0, 2, 1, 0, 2, 2, 1, 0, 2, 1, 1, 2, 0, 2, 0,\n",
       "       0])"
      ]
     },
     "execution_count": 18,
     "metadata": {},
     "output_type": "execute_result"
    }
   ],
   "source": [
    "y_pred_sk"
   ]
  },
  {
   "cell_type": "code",
   "execution_count": 19,
   "metadata": {},
   "outputs": [
    {
     "name": "stdout",
     "output_type": "stream",
     "text": [
      "|--- petal width (cm) <= 0.75\n",
      "|   |--- class: 0\n",
      "|--- petal width (cm) >  0.75\n",
      "|   |--- petal length (cm) <= 4.95\n",
      "|   |   |--- petal width (cm) <= 1.65\n",
      "|   |   |   |--- class: 1\n",
      "|   |   |--- petal width (cm) >  1.65\n",
      "|   |   |   |--- sepal width (cm) <= 3.10\n",
      "|   |   |   |   |--- class: 2\n",
      "|   |   |   |--- sepal width (cm) >  3.10\n",
      "|   |   |   |   |--- class: 1\n",
      "|   |--- petal length (cm) >  4.95\n",
      "|   |   |--- petal length (cm) <= 5.05\n",
      "|   |   |   |--- sepal length (cm) <= 6.50\n",
      "|   |   |   |   |--- class: 2\n",
      "|   |   |   |--- sepal length (cm) >  6.50\n",
      "|   |   |   |   |--- class: 1\n",
      "|   |   |--- petal length (cm) >  5.05\n",
      "|   |   |   |--- class: 2\n",
      "\n"
     ]
    }
   ],
   "source": [
    "print(export_text_sk(clf_sk, feature_names=iris['feature_names']))"
   ]
  },
  {
   "cell_type": "code",
   "execution_count": 20,
   "metadata": {},
   "outputs": [
    {
     "data": {
      "text/plain": [
       "array([ True,  True,  True,  True,  True,  True,  True,  True,  True,\n",
       "        True,  True,  True,  True,  True,  True,  True,  True,  True,\n",
       "        True,  True,  True,  True,  True,  True,  True,  True,  True,\n",
       "        True,  True,  True,  True,  True,  True,  True,  True,  True,\n",
       "        True,  True,  True,  True,  True,  True,  True,  True,  True])"
      ]
     },
     "execution_count": 20,
     "metadata": {},
     "output_type": "execute_result"
    }
   ],
   "source": [
    "y_pred == y_pred_sk"
   ]
  },
  {
   "cell_type": "markdown",
   "metadata": {},
   "source": [
    "# Titanic"
   ]
  },
  {
   "cell_type": "code",
   "execution_count": 21,
   "metadata": {},
   "outputs": [],
   "source": [
    "import pandas as pd"
   ]
  },
  {
   "cell_type": "code",
   "execution_count": 22,
   "metadata": {},
   "outputs": [],
   "source": [
    "df = pd.read_csv('../data/titanic.csv')"
   ]
  },
  {
   "cell_type": "code",
   "execution_count": 23,
   "metadata": {},
   "outputs": [
    {
     "data": {
      "text/html": [
       "<div>\n",
       "<style scoped>\n",
       "    .dataframe tbody tr th:only-of-type {\n",
       "        vertical-align: middle;\n",
       "    }\n",
       "\n",
       "    .dataframe tbody tr th {\n",
       "        vertical-align: top;\n",
       "    }\n",
       "\n",
       "    .dataframe thead th {\n",
       "        text-align: right;\n",
       "    }\n",
       "</style>\n",
       "<table border=\"1\" class=\"dataframe\">\n",
       "  <thead>\n",
       "    <tr style=\"text-align: right;\">\n",
       "      <th></th>\n",
       "      <th>Survived</th>\n",
       "      <th>Pclass</th>\n",
       "      <th>Name</th>\n",
       "      <th>Sex</th>\n",
       "      <th>Age</th>\n",
       "      <th>Siblings/Spouses Aboard</th>\n",
       "      <th>Parents/Children Aboard</th>\n",
       "      <th>Fare</th>\n",
       "    </tr>\n",
       "  </thead>\n",
       "  <tbody>\n",
       "    <tr>\n",
       "      <th>0</th>\n",
       "      <td>0</td>\n",
       "      <td>3</td>\n",
       "      <td>Mr. Owen Harris Braund</td>\n",
       "      <td>male</td>\n",
       "      <td>22.0</td>\n",
       "      <td>1</td>\n",
       "      <td>0</td>\n",
       "      <td>7.2500</td>\n",
       "    </tr>\n",
       "    <tr>\n",
       "      <th>1</th>\n",
       "      <td>1</td>\n",
       "      <td>1</td>\n",
       "      <td>Mrs. John Bradley (Florence Briggs Thayer) Cum...</td>\n",
       "      <td>female</td>\n",
       "      <td>38.0</td>\n",
       "      <td>1</td>\n",
       "      <td>0</td>\n",
       "      <td>71.2833</td>\n",
       "    </tr>\n",
       "    <tr>\n",
       "      <th>2</th>\n",
       "      <td>1</td>\n",
       "      <td>3</td>\n",
       "      <td>Miss. Laina Heikkinen</td>\n",
       "      <td>female</td>\n",
       "      <td>26.0</td>\n",
       "      <td>0</td>\n",
       "      <td>0</td>\n",
       "      <td>7.9250</td>\n",
       "    </tr>\n",
       "    <tr>\n",
       "      <th>3</th>\n",
       "      <td>1</td>\n",
       "      <td>1</td>\n",
       "      <td>Mrs. Jacques Heath (Lily May Peel) Futrelle</td>\n",
       "      <td>female</td>\n",
       "      <td>35.0</td>\n",
       "      <td>1</td>\n",
       "      <td>0</td>\n",
       "      <td>53.1000</td>\n",
       "    </tr>\n",
       "    <tr>\n",
       "      <th>4</th>\n",
       "      <td>0</td>\n",
       "      <td>3</td>\n",
       "      <td>Mr. William Henry Allen</td>\n",
       "      <td>male</td>\n",
       "      <td>35.0</td>\n",
       "      <td>0</td>\n",
       "      <td>0</td>\n",
       "      <td>8.0500</td>\n",
       "    </tr>\n",
       "    <tr>\n",
       "      <th>...</th>\n",
       "      <td>...</td>\n",
       "      <td>...</td>\n",
       "      <td>...</td>\n",
       "      <td>...</td>\n",
       "      <td>...</td>\n",
       "      <td>...</td>\n",
       "      <td>...</td>\n",
       "      <td>...</td>\n",
       "    </tr>\n",
       "    <tr>\n",
       "      <th>882</th>\n",
       "      <td>0</td>\n",
       "      <td>2</td>\n",
       "      <td>Rev. Juozas Montvila</td>\n",
       "      <td>male</td>\n",
       "      <td>27.0</td>\n",
       "      <td>0</td>\n",
       "      <td>0</td>\n",
       "      <td>13.0000</td>\n",
       "    </tr>\n",
       "    <tr>\n",
       "      <th>883</th>\n",
       "      <td>1</td>\n",
       "      <td>1</td>\n",
       "      <td>Miss. Margaret Edith Graham</td>\n",
       "      <td>female</td>\n",
       "      <td>19.0</td>\n",
       "      <td>0</td>\n",
       "      <td>0</td>\n",
       "      <td>30.0000</td>\n",
       "    </tr>\n",
       "    <tr>\n",
       "      <th>884</th>\n",
       "      <td>0</td>\n",
       "      <td>3</td>\n",
       "      <td>Miss. Catherine Helen Johnston</td>\n",
       "      <td>female</td>\n",
       "      <td>7.0</td>\n",
       "      <td>1</td>\n",
       "      <td>2</td>\n",
       "      <td>23.4500</td>\n",
       "    </tr>\n",
       "    <tr>\n",
       "      <th>885</th>\n",
       "      <td>1</td>\n",
       "      <td>1</td>\n",
       "      <td>Mr. Karl Howell Behr</td>\n",
       "      <td>male</td>\n",
       "      <td>26.0</td>\n",
       "      <td>0</td>\n",
       "      <td>0</td>\n",
       "      <td>30.0000</td>\n",
       "    </tr>\n",
       "    <tr>\n",
       "      <th>886</th>\n",
       "      <td>0</td>\n",
       "      <td>3</td>\n",
       "      <td>Mr. Patrick Dooley</td>\n",
       "      <td>male</td>\n",
       "      <td>32.0</td>\n",
       "      <td>0</td>\n",
       "      <td>0</td>\n",
       "      <td>7.7500</td>\n",
       "    </tr>\n",
       "  </tbody>\n",
       "</table>\n",
       "<p>887 rows × 8 columns</p>\n",
       "</div>"
      ],
      "text/plain": [
       "     Survived  Pclass                                               Name  \\\n",
       "0           0       3                             Mr. Owen Harris Braund   \n",
       "1           1       1  Mrs. John Bradley (Florence Briggs Thayer) Cum...   \n",
       "2           1       3                              Miss. Laina Heikkinen   \n",
       "3           1       1        Mrs. Jacques Heath (Lily May Peel) Futrelle   \n",
       "4           0       3                            Mr. William Henry Allen   \n",
       "..        ...     ...                                                ...   \n",
       "882         0       2                               Rev. Juozas Montvila   \n",
       "883         1       1                        Miss. Margaret Edith Graham   \n",
       "884         0       3                     Miss. Catherine Helen Johnston   \n",
       "885         1       1                               Mr. Karl Howell Behr   \n",
       "886         0       3                                 Mr. Patrick Dooley   \n",
       "\n",
       "        Sex   Age  Siblings/Spouses Aboard  Parents/Children Aboard     Fare  \n",
       "0      male  22.0                        1                        0   7.2500  \n",
       "1    female  38.0                        1                        0  71.2833  \n",
       "2    female  26.0                        0                        0   7.9250  \n",
       "3    female  35.0                        1                        0  53.1000  \n",
       "4      male  35.0                        0                        0   8.0500  \n",
       "..      ...   ...                      ...                      ...      ...  \n",
       "882    male  27.0                        0                        0  13.0000  \n",
       "883  female  19.0                        0                        0  30.0000  \n",
       "884  female   7.0                        1                        2  23.4500  \n",
       "885    male  26.0                        0                        0  30.0000  \n",
       "886    male  32.0                        0                        0   7.7500  \n",
       "\n",
       "[887 rows x 8 columns]"
      ]
     },
     "execution_count": 23,
     "metadata": {},
     "output_type": "execute_result"
    }
   ],
   "source": [
    "df"
   ]
  },
  {
   "cell_type": "code",
   "execution_count": 24,
   "metadata": {},
   "outputs": [],
   "source": [
    "X = df[['Pclass', 'Sex', 'Age', 'Siblings/Spouses Aboard', 'Parents/Children Aboard', 'Fare']].to_numpy()"
   ]
  },
  {
   "cell_type": "code",
   "execution_count": 25,
   "metadata": {},
   "outputs": [],
   "source": [
    "y = df['Survived'].to_numpy()"
   ]
  },
  {
   "cell_type": "code",
   "execution_count": 26,
   "metadata": {},
   "outputs": [],
   "source": [
    "X_train, X_test, y_train, y_test = train_test_split(X, y, test_size=0.5, random_state=0)"
   ]
  },
  {
   "cell_type": "code",
   "execution_count": 27,
   "metadata": {},
   "outputs": [],
   "source": [
    "clf = DecisionTreeClassifier(criterion='gini', max_depth=None, min_samples_split=2, min_impurity_decrease=0.0)"
   ]
  },
  {
   "cell_type": "code",
   "execution_count": 28,
   "metadata": {
    "scrolled": false
   },
   "outputs": [],
   "source": [
    "clf.fit(X_train, y_train)"
   ]
  },
  {
   "cell_type": "code",
   "execution_count": 29,
   "metadata": {},
   "outputs": [],
   "source": [
    "y_pred = clf.predict(X_test)"
   ]
  },
  {
   "cell_type": "code",
   "execution_count": 30,
   "metadata": {},
   "outputs": [
    {
     "data": {
      "text/plain": [
       "array([1, 1, 0, 0, 0, 0, 0, 1, 1, 1, 0, 1, 0, 0, 0, 1, 1, 0, 0, 0, 0, 0,\n",
       "       1, 0, 1, 1, 0, 1, 0, 0, 1, 1, 1, 0, 1, 1, 0, 0, 0, 0, 0, 1, 0, 0,\n",
       "       0, 0, 1, 0, 0, 0, 0, 0, 1, 0, 0, 1, 1, 0, 0, 0, 1, 1, 0, 0, 0, 1,\n",
       "       0, 1, 0, 0, 1, 0, 0, 1, 1, 0, 0, 0, 0, 0, 0, 0, 0, 1, 0, 0, 0, 0,\n",
       "       0, 0, 0, 1, 0, 1, 1, 0, 0, 0, 0, 0, 0, 1, 1, 1, 0, 0, 1, 1, 0, 1,\n",
       "       1, 0, 0, 1, 0, 0, 0, 0, 0, 0, 1, 0, 0, 0, 0, 0, 1, 1, 1, 0, 0, 0,\n",
       "       1, 1, 0, 0, 0, 1, 0, 0, 0, 1, 0, 0, 1, 0, 1, 0, 0, 1, 0, 0, 0, 1,\n",
       "       1, 1, 1, 0, 1, 0, 0, 0, 0, 0, 1, 0, 0, 0, 0, 1, 0, 1, 0, 1, 0, 1,\n",
       "       0, 1, 0, 1, 1, 1, 1, 0, 0, 0, 0, 0, 1, 1, 0, 0, 0, 0, 0, 0, 1, 0,\n",
       "       0, 0, 0, 0, 0, 0, 1, 0, 0, 1, 0, 0, 1, 1, 0, 1, 1, 0, 0, 1, 0, 1,\n",
       "       0, 0, 1, 1, 1, 1, 1, 1, 0, 0, 0, 1, 0, 1, 0, 1, 0, 0, 0, 1, 1, 1,\n",
       "       0, 1, 0, 1, 0, 1, 1, 1, 1, 0, 0, 0, 1, 0, 1, 0, 0, 1, 1, 1, 0, 0,\n",
       "       1, 0, 1, 0, 0, 1, 0, 0, 0, 0, 1, 1, 0, 1, 0, 0, 0, 1, 1, 0, 0, 0,\n",
       "       0, 0, 0, 0, 1, 0, 1, 0, 0, 0, 1, 1, 1, 0, 0, 0, 1, 0, 0, 1, 1, 0,\n",
       "       1, 1, 1, 0, 0, 1, 0, 0, 0, 0, 0, 0, 1, 0, 0, 0, 1, 0, 0, 0, 1, 0,\n",
       "       0, 1, 0, 0, 0, 1, 1, 1, 0, 0, 1, 0, 0, 1, 0, 1, 1, 0, 0, 0, 0, 0,\n",
       "       1, 0, 1, 1, 1, 1, 0, 0, 1, 1, 0, 1, 0, 1, 1, 0, 0, 1, 1, 0, 0, 0,\n",
       "       1, 0, 1, 1, 0, 0, 1, 0, 1, 1, 1, 1, 0, 0, 0, 0, 0, 0, 1, 1, 0, 0,\n",
       "       1, 1, 1, 1, 0, 1, 1, 0, 0, 0, 1, 0, 0, 0, 1, 0, 0, 1, 0, 0, 1, 0,\n",
       "       0, 0, 1, 0, 1, 1, 1, 1, 1, 1, 1, 1, 0, 0, 0, 1, 0, 0, 1, 0, 0, 1,\n",
       "       0, 1, 0, 0])"
      ]
     },
     "execution_count": 30,
     "metadata": {},
     "output_type": "execute_result"
    }
   ],
   "source": [
    "y_pred"
   ]
  },
  {
   "cell_type": "code",
   "execution_count": 31,
   "metadata": {
    "scrolled": true
   },
   "outputs": [
    {
     "name": "stdout",
     "output_type": "stream",
     "text": [
      "|---  Sex == female\n",
      "|   |---  Pclass <= 2.5\n",
      "|   |   |---  Age <= 2.5\n",
      "|   |   |   |--- class: 0\n",
      "|   |   |---  Age > 2.5\n",
      "|   |   |   |---  Fare <= 28.85625\n",
      "|   |   |   |   |---  Age <= 37.0\n",
      "|   |   |   |   |   |---  Siblings/Spouses Aboard <= 0.5\n",
      "|   |   |   |   |   |   |--- class: 1\n",
      "|   |   |   |   |   |---  Siblings/Spouses Aboard > 0.5\n",
      "|   |   |   |   |   |   |---  Fare <= 22.0\n",
      "|   |   |   |   |   |   |   |---  Age <= 28.5\n",
      "|   |   |   |   |   |   |   |   |---  Fare <= 17.42915\n",
      "|   |   |   |   |   |   |   |   |   |--- class: 1\n",
      "|   |   |   |   |   |   |   |   |---  Fare > 17.42915\n",
      "|   |   |   |   |   |   |   |   |   |--- class: 0\n",
      "|   |   |   |   |   |   |   |---  Age > 28.5\n",
      "|   |   |   |   |   |   |   |   |--- class: 1\n",
      "|   |   |   |   |   |   |---  Fare > 22.0\n",
      "|   |   |   |   |   |   |   |--- class: 1\n",
      "|   |   |   |   |---  Age > 37.0\n",
      "|   |   |   |   |   |---  Age <= 39.0\n",
      "|   |   |   |   |   |   |--- class: 0\n",
      "|   |   |   |   |   |---  Age > 39.0\n",
      "|   |   |   |   |   |   |---  Fare <= 27.63125\n",
      "|   |   |   |   |   |   |   |---  Pclass <= 1.5\n",
      "|   |   |   |   |   |   |   |   |--- class: 1\n",
      "|   |   |   |   |   |   |   |---  Pclass > 1.5\n",
      "|   |   |   |   |   |   |   |   |---  Age <= 53.5\n",
      "|   |   |   |   |   |   |   |   |   |---  Age <= 43.0\n",
      "|   |   |   |   |   |   |   |   |   |   |--- class: 1\n",
      "|   |   |   |   |   |   |   |   |   |---  Age > 43.0\n",
      "|   |   |   |   |   |   |   |   |   |   |---  Age <= 44.5\n",
      "|   |   |   |   |   |   |   |   |   |   |   |--- class: 0\n",
      "|   |   |   |   |   |   |   |   |   |   |---  Age > 44.5\n",
      "|   |   |   |   |   |   |   |   |   |   |   |--- class: 1\n",
      "|   |   |   |   |   |   |   |   |---  Age > 53.5\n",
      "|   |   |   |   |   |   |   |   |   |--- class: 0\n",
      "|   |   |   |   |   |   |---  Fare > 27.63125\n",
      "|   |   |   |   |   |   |   |--- class: 0\n",
      "|   |   |   |---  Fare > 28.85625\n",
      "|   |   |   |   |--- class: 1\n",
      "|   |---  Pclass > 2.5\n",
      "|   |   |---  Fare <= 23.35\n",
      "|   |   |   |---  Age <= 38.0\n",
      "|   |   |   |   |---  Fare <= 14.852049999999998\n",
      "|   |   |   |   |   |---  Fare <= 7.8875\n",
      "|   |   |   |   |   |   |---  Age <= 29.25\n",
      "|   |   |   |   |   |   |   |---  Fare <= 7.64375\n",
      "|   |   |   |   |   |   |   |   |---  Age <= 21.5\n",
      "|   |   |   |   |   |   |   |   |   |--- class: 0\n",
      "|   |   |   |   |   |   |   |   |---  Age > 21.5\n",
      "|   |   |   |   |   |   |   |   |   |--- class: 1\n",
      "|   |   |   |   |   |   |   |---  Fare > 7.64375\n",
      "|   |   |   |   |   |   |   |   |---  Age <= 21.5\n",
      "|   |   |   |   |   |   |   |   |   |---  Age <= 20.5\n",
      "|   |   |   |   |   |   |   |   |   |   |--- class: 1\n",
      "|   |   |   |   |   |   |   |   |   |---  Age > 20.5\n",
      "|   |   |   |   |   |   |   |   |   |   |--- class: 0\n",
      "|   |   |   |   |   |   |   |   |---  Age > 21.5\n",
      "|   |   |   |   |   |   |   |   |   |--- class: 1\n",
      "|   |   |   |   |   |   |---  Age > 29.25\n",
      "|   |   |   |   |   |   |   |---  Age <= 33.0\n",
      "|   |   |   |   |   |   |   |   |--- class: 0\n",
      "|   |   |   |   |   |   |   |---  Age > 33.0\n",
      "|   |   |   |   |   |   |   |   |--- class: 1\n",
      "|   |   |   |   |   |---  Fare > 7.8875\n",
      "|   |   |   |   |   |   |---  Age <= 17.5\n",
      "|   |   |   |   |   |   |   |---  Age <= 14.75\n",
      "|   |   |   |   |   |   |   |   |---  Age <= 9.75\n",
      "|   |   |   |   |   |   |   |   |   |--- class: 1\n",
      "|   |   |   |   |   |   |   |   |---  Age > 9.75\n",
      "|   |   |   |   |   |   |   |   |   |--- class: 0\n",
      "|   |   |   |   |   |   |   |---  Age > 14.75\n",
      "|   |   |   |   |   |   |   |   |--- class: 1\n",
      "|   |   |   |   |   |   |---  Age > 17.5\n",
      "|   |   |   |   |   |   |   |---  Parents/Children Aboard <= 0.5\n",
      "|   |   |   |   |   |   |   |   |--- class: 0\n",
      "|   |   |   |   |   |   |   |---  Parents/Children Aboard > 0.5\n",
      "|   |   |   |   |   |   |   |   |---  Fare <= 11.9021\n",
      "|   |   |   |   |   |   |   |   |   |--- class: 1\n",
      "|   |   |   |   |   |   |   |   |---  Fare > 11.9021\n",
      "|   |   |   |   |   |   |   |   |   |--- class: 0\n",
      "|   |   |   |   |---  Fare > 14.852049999999998\n",
      "|   |   |   |   |   |---  Siblings/Spouses Aboard <= 2.5\n",
      "|   |   |   |   |   |   |--- class: 1\n",
      "|   |   |   |   |   |---  Siblings/Spouses Aboard > 2.5\n",
      "|   |   |   |   |   |   |---  Age <= 20.5\n",
      "|   |   |   |   |   |   |   |--- class: 0\n",
      "|   |   |   |   |   |   |---  Age > 20.5\n",
      "|   |   |   |   |   |   |   |--- class: 1\n",
      "|   |   |   |---  Age > 38.0\n",
      "|   |   |   |   |---  Age <= 55.0\n",
      "|   |   |   |   |   |--- class: 0\n",
      "|   |   |   |   |---  Age > 55.0\n",
      "|   |   |   |   |   |--- class: 1\n",
      "|   |   |---  Fare > 23.35\n",
      "|   |   |   |---  Fare <= 31.331249999999997\n",
      "|   |   |   |   |--- class: 0\n",
      "|   |   |   |---  Fare > 31.331249999999997\n",
      "|   |   |   |   |---  Fare <= 32.88125\n",
      "|   |   |   |   |   |--- class: 1\n",
      "|   |   |   |   |---  Fare > 32.88125\n",
      "|   |   |   |   |   |--- class: 0\n",
      "|---  Sex != female\n",
      "|   |---  Age <= 10.0\n",
      "|   |   |---  Siblings/Spouses Aboard <= 2.5\n",
      "|   |   |   |--- class: 1\n",
      "|   |   |---  Siblings/Spouses Aboard > 2.5\n",
      "|   |   |   |---  Parents/Children Aboard <= 1.5\n",
      "|   |   |   |   |--- class: 0\n",
      "|   |   |   |---  Parents/Children Aboard > 1.5\n",
      "|   |   |   |   |--- class: 1\n",
      "|   |---  Age > 10.0\n",
      "|   |   |---  Pclass <= 1.5\n",
      "|   |   |   |---  Age <= 36.5\n",
      "|   |   |   |   |---  Fare <= 41.3\n",
      "|   |   |   |   |   |---  Fare <= 15.64375\n",
      "|   |   |   |   |   |   |--- class: 0\n",
      "|   |   |   |   |   |---  Fare > 15.64375\n",
      "|   |   |   |   |   |   |---  Age <= 28.5\n",
      "|   |   |   |   |   |   |   |--- class: 1\n",
      "|   |   |   |   |   |   |---  Age > 28.5\n",
      "|   |   |   |   |   |   |   |---  Age <= 31.0\n",
      "|   |   |   |   |   |   |   |   |---  Age <= 29.5\n",
      "|   |   |   |   |   |   |   |   |   |---  Fare <= 29.85\n",
      "|   |   |   |   |   |   |   |   |   |   |--- class: 1\n",
      "|   |   |   |   |   |   |   |   |   |---  Fare > 29.85\n",
      "|   |   |   |   |   |   |   |   |   |   |--- class: 0\n",
      "|   |   |   |   |   |   |   |   |---  Age > 29.5\n",
      "|   |   |   |   |   |   |   |   |   |--- class: 0\n",
      "|   |   |   |   |   |   |   |---  Age > 31.0\n",
      "|   |   |   |   |   |   |   |   |--- class: 1\n",
      "|   |   |   |   |---  Fare > 41.3\n",
      "|   |   |   |   |   |---  Parents/Children Aboard <= 1.5\n",
      "|   |   |   |   |   |   |---  Fare <= 379.925\n",
      "|   |   |   |   |   |   |   |---  Age <= 24.5\n",
      "|   |   |   |   |   |   |   |   |--- class: 0\n",
      "|   |   |   |   |   |   |   |---  Age > 24.5\n",
      "|   |   |   |   |   |   |   |   |---  Fare <= 53.72085\n",
      "|   |   |   |   |   |   |   |   |   |--- class: 0\n",
      "|   |   |   |   |   |   |   |   |---  Fare > 53.72085\n",
      "|   |   |   |   |   |   |   |   |   |---  Age <= 33.5\n",
      "|   |   |   |   |   |   |   |   |   |   |--- class: 1\n",
      "|   |   |   |   |   |   |   |   |   |---  Age > 33.5\n",
      "|   |   |   |   |   |   |   |   |   |   |--- class: 0\n",
      "|   |   |   |   |   |   |---  Fare > 379.925\n",
      "|   |   |   |   |   |   |   |--- class: 1\n",
      "|   |   |   |   |   |---  Parents/Children Aboard > 1.5\n",
      "|   |   |   |   |   |   |--- class: 1\n",
      "|   |   |   |---  Age > 36.5\n",
      "|   |   |   |   |---  Fare <= 30.5979\n",
      "|   |   |   |   |   |---  Fare <= 29.25\n",
      "|   |   |   |   |   |   |---  Age <= 38.0\n",
      "|   |   |   |   |   |   |   |--- class: 1\n",
      "|   |   |   |   |   |   |---  Age > 38.0\n",
      "|   |   |   |   |   |   |   |---  Age <= 53.5\n",
      "|   |   |   |   |   |   |   |   |---  Fare <= 26.06875\n",
      "|   |   |   |   |   |   |   |   |   |--- class: 0\n",
      "|   |   |   |   |   |   |   |   |---  Fare > 26.06875\n",
      "|   |   |   |   |   |   |   |   |   |---  Fare <= 27.525\n",
      "|   |   |   |   |   |   |   |   |   |   |--- class: 1\n",
      "|   |   |   |   |   |   |   |   |   |---  Fare > 27.525\n",
      "|   |   |   |   |   |   |   |   |   |   |--- class: 0\n",
      "|   |   |   |   |   |   |   |---  Age > 53.5\n",
      "|   |   |   |   |   |   |   |   |--- class: 0\n",
      "|   |   |   |   |   |---  Fare > 29.25\n",
      "|   |   |   |   |   |   |--- class: 1\n",
      "|   |   |   |   |---  Fare > 30.5979\n",
      "|   |   |   |   |   |---  Siblings/Spouses Aboard <= 0.5\n",
      "|   |   |   |   |   |   |--- class: 0\n",
      "|   |   |   |   |   |---  Siblings/Spouses Aboard > 0.5\n",
      "|   |   |   |   |   |   |---  Fare <= 52.55\n",
      "|   |   |   |   |   |   |   |--- class: 1\n",
      "|   |   |   |   |   |   |---  Fare > 52.55\n",
      "|   |   |   |   |   |   |   |---  Fare <= 86.28960000000001\n",
      "|   |   |   |   |   |   |   |   |--- class: 0\n",
      "|   |   |   |   |   |   |   |---  Fare > 86.28960000000001\n",
      "|   |   |   |   |   |   |   |   |---  Fare <= 89.5521\n",
      "|   |   |   |   |   |   |   |   |   |--- class: 1\n",
      "|   |   |   |   |   |   |   |   |---  Fare > 89.5521\n",
      "|   |   |   |   |   |   |   |   |   |--- class: 0\n",
      "|   |   |---  Pclass > 1.5\n",
      "|   |   |   |---  Age <= 32.25\n",
      "|   |   |   |   |---  Age <= 28.75\n",
      "|   |   |   |   |   |---  Fare <= 8.24165\n",
      "|   |   |   |   |   |   |---  Fare <= 7.9104\n",
      "|   |   |   |   |   |   |   |---  Fare <= 7.7854\n",
      "|   |   |   |   |   |   |   |   |---  Age <= 21.5\n",
      "|   |   |   |   |   |   |   |   |   |---  Fare <= 7.2271\n",
      "|   |   |   |   |   |   |   |   |   |   |--- class: 0\n",
      "|   |   |   |   |   |   |   |   |   |---  Fare > 7.2271\n",
      "|   |   |   |   |   |   |   |   |   |   |---  Fare <= 7.239599999999999\n",
      "|   |   |   |   |   |   |   |   |   |   |   |---  Age <= 17.5\n",
      "|   |   |   |   |   |   |   |   |   |   |   |   |--- class: 0\n",
      "|   |   |   |   |   |   |   |   |   |   |   |---  Age > 17.5\n",
      "|   |   |   |   |   |   |   |   |   |   |   |   |--- class: 1\n",
      "|   |   |   |   |   |   |   |   |   |   |---  Fare > 7.239599999999999\n",
      "|   |   |   |   |   |   |   |   |   |   |   |---  Age <= 19.5\n",
      "|   |   |   |   |   |   |   |   |   |   |   |   |---  Age <= 18.5\n",
      "|   |   |   |   |   |   |   |   |   |   |   |   |   |--- class: 0\n",
      "|   |   |   |   |   |   |   |   |   |   |   |   |---  Age > 18.5\n",
      "|   |   |   |   |   |   |   |   |   |   |   |   |   |---  Fare <= 7.7\n",
      "|   |   |   |   |   |   |   |   |   |   |   |   |   |   |--- class: 0\n",
      "|   |   |   |   |   |   |   |   |   |   |   |   |   |---  Fare > 7.7\n",
      "|   |   |   |   |   |   |   |   |   |   |   |   |   |   |---  Fare <= 7.7625\n",
      "|   |   |   |   |   |   |   |   |   |   |   |   |   |   |   |--- class: 0\n",
      "|   |   |   |   |   |   |   |   |   |   |   |   |   |   |---  Fare > 7.7625\n",
      "|   |   |   |   |   |   |   |   |   |   |   |   |   |   |   |--- class: 0\n",
      "|   |   |   |   |   |   |   |   |   |   |   |---  Age > 19.5\n",
      "|   |   |   |   |   |   |   |   |   |   |   |   |--- class: 0\n",
      "|   |   |   |   |   |   |   |   |---  Age > 21.5\n",
      "|   |   |   |   |   |   |   |   |   |---  Siblings/Spouses Aboard <= 0.5\n",
      "|   |   |   |   |   |   |   |   |   |   |---  Fare <= 7.2271\n",
      "|   |   |   |   |   |   |   |   |   |   |   |---  Pclass <= 2.5\n",
      "|   |   |   |   |   |   |   |   |   |   |   |   |--- class: 0\n",
      "|   |   |   |   |   |   |   |   |   |   |   |---  Pclass > 2.5\n",
      "|   |   |   |   |   |   |   |   |   |   |   |   |---  Age <= 23.0\n",
      "|   |   |   |   |   |   |   |   |   |   |   |   |   |--- class: 1\n",
      "|   |   |   |   |   |   |   |   |   |   |   |   |---  Age > 23.0\n",
      "|   |   |   |   |   |   |   |   |   |   |   |   |   |---  Fare <= 3.525\n",
      "|   |   |   |   |   |   |   |   |   |   |   |   |   |   |--- class: 1\n",
      "|   |   |   |   |   |   |   |   |   |   |   |   |   |---  Fare > 3.525\n",
      "|   |   |   |   |   |   |   |   |   |   |   |   |   |   |---  Age <= 24.5\n",
      "|   |   |   |   |   |   |   |   |   |   |   |   |   |   |   |---  Fare <= 7.09585\n",
      "|   |   |   |   |   |   |   |   |   |   |   |   |   |   |   |   |--- class: 0\n",
      "|   |   |   |   |   |   |   |   |   |   |   |   |   |   |   |---  Fare > 7.09585\n",
      "|   |   |   |   |   |   |   |   |   |   |   |   |   |   |   |   |--- class: 1\n",
      "|   |   |   |   |   |   |   |   |   |   |   |   |   |   |---  Age > 24.5\n",
      "|   |   |   |   |   |   |   |   |   |   |   |   |   |   |   |--- class: 0\n",
      "|   |   |   |   |   |   |   |   |   |   |---  Fare > 7.2271\n",
      "|   |   |   |   |   |   |   |   |   |   |   |--- class: 0\n",
      "|   |   |   |   |   |   |   |   |   |---  Siblings/Spouses Aboard > 0.5\n",
      "|   |   |   |   |   |   |   |   |   |   |--- class: 1\n",
      "|   |   |   |   |   |   |   |---  Fare > 7.7854\n",
      "|   |   |   |   |   |   |   |   |--- class: 0\n",
      "|   |   |   |   |   |   |---  Fare > 7.9104\n",
      "|   |   |   |   |   |   |   |---  Age <= 18.5\n",
      "|   |   |   |   |   |   |   |   |--- class: 1\n",
      "|   |   |   |   |   |   |   |---  Age > 18.5\n",
      "|   |   |   |   |   |   |   |   |---  Siblings/Spouses Aboard <= 0.5\n",
      "|   |   |   |   |   |   |   |   |   |---  Age <= 19.5\n",
      "|   |   |   |   |   |   |   |   |   |   |--- class: 0\n",
      "|   |   |   |   |   |   |   |   |   |---  Age > 19.5\n",
      "|   |   |   |   |   |   |   |   |   |   |--- class: 0\n",
      "|   |   |   |   |   |   |   |   |---  Siblings/Spouses Aboard > 0.5\n",
      "|   |   |   |   |   |   |   |   |   |--- class: 1\n",
      "|   |   |   |   |   |---  Fare > 8.24165\n",
      "|   |   |   |   |   |   |---  Pclass <= 2.5\n",
      "|   |   |   |   |   |   |   |---  Age <= 26.5\n",
      "|   |   |   |   |   |   |   |   |---  Fare <= 11.0\n",
      "|   |   |   |   |   |   |   |   |   |---  Age <= 21.0\n",
      "|   |   |   |   |   |   |   |   |   |   |---  Age <= 17.5\n",
      "|   |   |   |   |   |   |   |   |   |   |   |--- class: 0\n",
      "|   |   |   |   |   |   |   |   |   |   |---  Age > 17.5\n",
      "|   |   |   |   |   |   |   |   |   |   |   |--- class: 1\n",
      "|   |   |   |   |   |   |   |   |   |---  Age > 21.0\n",
      "|   |   |   |   |   |   |   |   |   |   |--- class: 0\n",
      "|   |   |   |   |   |   |   |   |---  Fare > 11.0\n",
      "|   |   |   |   |   |   |   |   |   |--- class: 0\n",
      "|   |   |   |   |   |   |   |---  Age > 26.5\n",
      "|   |   |   |   |   |   |   |   |---  Age <= 27.5\n",
      "|   |   |   |   |   |   |   |   |   |--- class: 1\n",
      "|   |   |   |   |   |   |   |   |---  Age > 27.5\n",
      "|   |   |   |   |   |   |   |   |   |--- class: 0\n",
      "|   |   |   |   |   |   |---  Pclass > 2.5\n",
      "|   |   |   |   |   |   |   |--- class: 0\n",
      "|   |   |   |   |---  Age > 28.75\n",
      "|   |   |   |   |   |---  Pclass <= 2.5\n",
      "|   |   |   |   |   |   |---  Age <= 31.0\n",
      "|   |   |   |   |   |   |   |--- class: 0\n",
      "|   |   |   |   |   |   |---  Age > 31.0\n",
      "|   |   |   |   |   |   |   |---  Siblings/Spouses Aboard <= 0.5\n",
      "|   |   |   |   |   |   |   |   |--- class: 0\n",
      "|   |   |   |   |   |   |   |---  Siblings/Spouses Aboard > 0.5\n",
      "|   |   |   |   |   |   |   |   |---  Siblings/Spouses Aboard <= 1.5\n",
      "|   |   |   |   |   |   |   |   |   |--- class: 1\n",
      "|   |   |   |   |   |   |   |   |---  Siblings/Spouses Aboard > 1.5\n",
      "|   |   |   |   |   |   |   |   |   |--- class: 0\n",
      "|   |   |   |   |   |---  Pclass > 2.5\n",
      "|   |   |   |   |   |   |---  Fare <= 8.93125\n",
      "|   |   |   |   |   |   |   |---  Age <= 29.5\n",
      "|   |   |   |   |   |   |   |   |---  Fare <= 7.825\n",
      "|   |   |   |   |   |   |   |   |   |--- class: 1\n",
      "|   |   |   |   |   |   |   |   |---  Fare > 7.825\n",
      "|   |   |   |   |   |   |   |   |   |--- class: 0\n",
      "|   |   |   |   |   |   |   |---  Age > 29.5\n",
      "|   |   |   |   |   |   |   |   |---  Age <= 31.5\n",
      "|   |   |   |   |   |   |   |   |   |--- class: 0\n",
      "|   |   |   |   |   |   |   |   |---  Age > 31.5\n",
      "|   |   |   |   |   |   |   |   |   |---  Fare <= 7.9104\n",
      "|   |   |   |   |   |   |   |   |   |   |--- class: 0\n",
      "|   |   |   |   |   |   |   |   |   |---  Fare > 7.9104\n",
      "|   |   |   |   |   |   |   |   |   |   |---  Fare <= 8.20625\n",
      "|   |   |   |   |   |   |   |   |   |   |   |---  Fare <= 7.987500000000001\n",
      "|   |   |   |   |   |   |   |   |   |   |   |   |--- class: 1\n",
      "|   |   |   |   |   |   |   |   |   |   |   |---  Fare > 7.987500000000001\n",
      "|   |   |   |   |   |   |   |   |   |   |   |   |--- class: 1\n",
      "|   |   |   |   |   |   |   |   |   |   |---  Fare > 8.20625\n",
      "|   |   |   |   |   |   |   |   |   |   |   |--- class: 0\n",
      "|   |   |   |   |   |   |---  Fare > 8.93125\n",
      "|   |   |   |   |   |   |   |---  Age <= 31.0\n",
      "|   |   |   |   |   |   |   |   |---  Fare <= 16.825\n",
      "|   |   |   |   |   |   |   |   |   |--- class: 1\n",
      "|   |   |   |   |   |   |   |   |---  Fare > 16.825\n",
      "|   |   |   |   |   |   |   |   |   |--- class: 0\n",
      "|   |   |   |   |   |   |   |---  Age > 31.0\n",
      "|   |   |   |   |   |   |   |   |--- class: 1\n",
      "|   |   |   |---  Age > 32.25\n",
      "|   |   |   |   |---  Age <= 38.5\n",
      "|   |   |   |   |   |--- class: 0\n",
      "|   |   |   |   |---  Age > 38.5\n",
      "|   |   |   |   |   |---  Fare <= 7.9104\n",
      "|   |   |   |   |   |   |--- class: 0\n",
      "|   |   |   |   |   |---  Fare > 7.9104\n",
      "|   |   |   |   |   |   |---  Fare <= 7.987500000000001\n",
      "|   |   |   |   |   |   |   |--- class: 0\n",
      "|   |   |   |   |   |   |---  Fare > 7.987500000000001\n",
      "|   |   |   |   |   |   |   |---  Age <= 59.5\n",
      "|   |   |   |   |   |   |   |   |---  Age <= 46.0\n",
      "|   |   |   |   |   |   |   |   |   |---  Age <= 44.5\n",
      "|   |   |   |   |   |   |   |   |   |   |---  Pclass <= 2.5\n",
      "|   |   |   |   |   |   |   |   |   |   |   |---  Age <= 40.5\n",
      "|   |   |   |   |   |   |   |   |   |   |   |   |--- class: 0\n",
      "|   |   |   |   |   |   |   |   |   |   |   |---  Age > 40.5\n",
      "|   |   |   |   |   |   |   |   |   |   |   |   |---  Siblings/Spouses Aboard <= 0.5\n",
      "|   |   |   |   |   |   |   |   |   |   |   |   |   |--- class: 1\n",
      "|   |   |   |   |   |   |   |   |   |   |   |   |---  Siblings/Spouses Aboard > 0.5\n",
      "|   |   |   |   |   |   |   |   |   |   |   |   |   |--- class: 0\n",
      "|   |   |   |   |   |   |   |   |   |   |---  Pclass > 2.5\n",
      "|   |   |   |   |   |   |   |   |   |   |   |--- class: 0\n",
      "|   |   |   |   |   |   |   |   |   |---  Age > 44.5\n",
      "|   |   |   |   |   |   |   |   |   |   |--- class: 1\n",
      "|   |   |   |   |   |   |   |   |---  Age > 46.0\n",
      "|   |   |   |   |   |   |   |   |   |--- class: 0\n",
      "|   |   |   |   |   |   |   |---  Age > 59.5\n",
      "|   |   |   |   |   |   |   |   |---  Age <= 64.0\n",
      "|   |   |   |   |   |   |   |   |   |--- class: 1\n",
      "|   |   |   |   |   |   |   |   |---  Age > 64.0\n",
      "|   |   |   |   |   |   |   |   |   |--- class: 0\n",
      "\n"
     ]
    }
   ],
   "source": [
    "print(export_text(clf.root, feature_names=['Pclass', 'Sex', 'Age', 'Siblings/Spouses Aboard', 'Parents/Children Aboard', 'Fare']))"
   ]
  },
  {
   "cell_type": "code",
   "execution_count": 32,
   "metadata": {},
   "outputs": [],
   "source": [
    "clf_sk = DecisionTreeClassifier_sk(criterion='gini', max_depth=None, min_samples_split=2, min_impurity_decrease=0.0)"
   ]
  },
  {
   "cell_type": "code",
   "execution_count": 33,
   "metadata": {},
   "outputs": [],
   "source": [
    "# Need to one-hot encode Sex for scikit-learn\n",
    "X_train_sk, X_test_sk = X_train.copy(), X_test.copy()\n",
    "X_train_sk[:,1] = [0 if s == 'female' else 1 for s in X_train_sk[:,1]]\n",
    "X_test_sk[:,1] = [0 if s == 'female' else 1 for s in X_test_sk[:,1]]"
   ]
  },
  {
   "cell_type": "code",
   "execution_count": 34,
   "metadata": {
    "scrolled": false
   },
   "outputs": [
    {
     "data": {
      "text/plain": [
       "DecisionTreeClassifier()"
      ]
     },
     "execution_count": 34,
     "metadata": {},
     "output_type": "execute_result"
    }
   ],
   "source": [
    "clf_sk.fit(X_train_sk, y_train)"
   ]
  },
  {
   "cell_type": "code",
   "execution_count": 35,
   "metadata": {},
   "outputs": [],
   "source": [
    "y_pred_sk = clf_sk.predict(X_test_sk)"
   ]
  },
  {
   "cell_type": "code",
   "execution_count": 36,
   "metadata": {},
   "outputs": [
    {
     "data": {
      "text/plain": [
       "array([1, 1, 0, 0, 0, 0, 0, 1, 1, 1, 0, 1, 0, 0, 0, 1, 1, 0, 0, 0, 0, 0,\n",
       "       1, 0, 1, 1, 0, 1, 0, 0, 1, 0, 1, 1, 1, 1, 0, 0, 0, 0, 0, 1, 1, 0,\n",
       "       0, 0, 1, 0, 0, 0, 0, 0, 1, 0, 0, 1, 1, 0, 0, 0, 1, 1, 0, 0, 0, 1,\n",
       "       0, 1, 0, 0, 0, 0, 0, 1, 1, 0, 0, 0, 0, 0, 0, 0, 0, 1, 0, 0, 0, 0,\n",
       "       0, 0, 0, 1, 0, 1, 1, 0, 0, 0, 0, 0, 0, 1, 1, 1, 0, 0, 1, 1, 0, 1,\n",
       "       1, 0, 0, 1, 0, 0, 0, 0, 0, 0, 1, 0, 0, 0, 0, 0, 1, 1, 0, 0, 1, 0,\n",
       "       1, 1, 0, 0, 0, 0, 0, 0, 0, 1, 0, 0, 1, 0, 1, 0, 0, 1, 0, 0, 0, 1,\n",
       "       1, 1, 1, 1, 0, 0, 1, 0, 0, 0, 1, 0, 0, 0, 0, 1, 0, 1, 0, 1, 0, 1,\n",
       "       0, 1, 0, 1, 1, 1, 1, 0, 0, 0, 0, 0, 1, 1, 0, 0, 0, 0, 0, 0, 1, 0,\n",
       "       0, 0, 0, 1, 0, 0, 1, 0, 0, 1, 0, 0, 0, 1, 0, 1, 1, 0, 0, 1, 0, 1,\n",
       "       0, 0, 1, 1, 1, 1, 1, 1, 0, 0, 0, 1, 0, 1, 0, 1, 0, 0, 0, 1, 1, 1,\n",
       "       0, 0, 0, 0, 0, 1, 1, 1, 1, 0, 0, 0, 1, 0, 1, 1, 0, 1, 1, 1, 0, 0,\n",
       "       1, 0, 1, 0, 0, 1, 0, 0, 0, 0, 1, 1, 0, 1, 0, 0, 0, 1, 1, 0, 0, 0,\n",
       "       0, 0, 0, 0, 1, 0, 1, 0, 0, 0, 1, 1, 1, 0, 0, 0, 1, 0, 0, 1, 1, 0,\n",
       "       1, 1, 1, 0, 0, 1, 0, 0, 0, 0, 0, 0, 1, 0, 0, 0, 1, 0, 0, 0, 1, 0,\n",
       "       0, 1, 0, 0, 0, 1, 1, 1, 1, 0, 1, 0, 0, 1, 0, 1, 1, 0, 0, 0, 0, 0,\n",
       "       1, 0, 0, 1, 1, 1, 0, 0, 1, 1, 0, 1, 0, 1, 1, 0, 1, 1, 1, 0, 0, 0,\n",
       "       1, 0, 1, 1, 0, 0, 1, 0, 1, 1, 1, 1, 0, 0, 0, 0, 0, 0, 1, 1, 0, 0,\n",
       "       1, 1, 1, 1, 0, 1, 1, 0, 0, 0, 1, 0, 0, 0, 1, 0, 0, 1, 1, 0, 1, 0,\n",
       "       0, 0, 1, 0, 1, 1, 1, 1, 1, 1, 1, 1, 0, 0, 0, 1, 0, 0, 1, 0, 0, 1,\n",
       "       0, 1, 0, 0])"
      ]
     },
     "execution_count": 36,
     "metadata": {},
     "output_type": "execute_result"
    }
   ],
   "source": [
    "y_pred_sk"
   ]
  },
  {
   "cell_type": "code",
   "execution_count": 37,
   "metadata": {
    "scrolled": true
   },
   "outputs": [
    {
     "name": "stdout",
     "output_type": "stream",
     "text": [
      "|--- Sex <= 0.50\n",
      "|   |--- Pclass <= 2.50\n",
      "|   |   |--- Age <= 2.50\n",
      "|   |   |   |--- class: 0\n",
      "|   |   |--- Age >  2.50\n",
      "|   |   |   |--- Fare <= 28.86\n",
      "|   |   |   |   |--- Age <= 37.00\n",
      "|   |   |   |   |   |--- Siblings/Spouses Aboard <= 0.50\n",
      "|   |   |   |   |   |   |--- class: 1\n",
      "|   |   |   |   |   |--- Siblings/Spouses Aboard >  0.50\n",
      "|   |   |   |   |   |   |--- Fare <= 22.00\n",
      "|   |   |   |   |   |   |   |--- Fare <= 17.43\n",
      "|   |   |   |   |   |   |   |   |--- class: 1\n",
      "|   |   |   |   |   |   |   |--- Fare >  17.43\n",
      "|   |   |   |   |   |   |   |   |--- Siblings/Spouses Aboard <= 2.00\n",
      "|   |   |   |   |   |   |   |   |   |--- class: 0\n",
      "|   |   |   |   |   |   |   |   |--- Siblings/Spouses Aboard >  2.00\n",
      "|   |   |   |   |   |   |   |   |   |--- class: 1\n",
      "|   |   |   |   |   |   |--- Fare >  22.00\n",
      "|   |   |   |   |   |   |   |--- class: 1\n",
      "|   |   |   |   |--- Age >  37.00\n",
      "|   |   |   |   |   |--- Fare <= 27.63\n",
      "|   |   |   |   |   |   |--- Fare <= 14.38\n",
      "|   |   |   |   |   |   |   |--- Fare <= 11.75\n",
      "|   |   |   |   |   |   |   |   |--- Age <= 53.50\n",
      "|   |   |   |   |   |   |   |   |   |--- class: 1\n",
      "|   |   |   |   |   |   |   |   |--- Age >  53.50\n",
      "|   |   |   |   |   |   |   |   |   |--- class: 0\n",
      "|   |   |   |   |   |   |   |--- Fare >  11.75\n",
      "|   |   |   |   |   |   |   |   |--- class: 0\n",
      "|   |   |   |   |   |   |--- Fare >  14.38\n",
      "|   |   |   |   |   |   |   |--- Siblings/Spouses Aboard <= 0.50\n",
      "|   |   |   |   |   |   |   |   |--- class: 1\n",
      "|   |   |   |   |   |   |   |--- Siblings/Spouses Aboard >  0.50\n",
      "|   |   |   |   |   |   |   |   |--- Parents/Children Aboard <= 0.50\n",
      "|   |   |   |   |   |   |   |   |   |--- Age <= 43.00\n",
      "|   |   |   |   |   |   |   |   |   |   |--- class: 1\n",
      "|   |   |   |   |   |   |   |   |   |--- Age >  43.00\n",
      "|   |   |   |   |   |   |   |   |   |   |--- class: 0\n",
      "|   |   |   |   |   |   |   |   |--- Parents/Children Aboard >  0.50\n",
      "|   |   |   |   |   |   |   |   |   |--- class: 1\n",
      "|   |   |   |   |   |--- Fare >  27.63\n",
      "|   |   |   |   |   |   |--- class: 0\n",
      "|   |   |   |--- Fare >  28.86\n",
      "|   |   |   |   |--- class: 1\n",
      "|   |--- Pclass >  2.50\n",
      "|   |   |--- Fare <= 23.35\n",
      "|   |   |   |--- Age <= 38.00\n",
      "|   |   |   |   |--- Fare <= 14.85\n",
      "|   |   |   |   |   |--- Fare <= 7.89\n",
      "|   |   |   |   |   |   |--- Age <= 29.25\n",
      "|   |   |   |   |   |   |   |--- Fare <= 7.64\n",
      "|   |   |   |   |   |   |   |   |--- Fare <= 7.39\n",
      "|   |   |   |   |   |   |   |   |   |--- class: 1\n",
      "|   |   |   |   |   |   |   |   |--- Fare >  7.39\n",
      "|   |   |   |   |   |   |   |   |   |--- class: 0\n",
      "|   |   |   |   |   |   |   |--- Fare >  7.64\n",
      "|   |   |   |   |   |   |   |   |--- Age <= 21.50\n",
      "|   |   |   |   |   |   |   |   |   |--- Age <= 20.50\n",
      "|   |   |   |   |   |   |   |   |   |   |--- class: 1\n",
      "|   |   |   |   |   |   |   |   |   |--- Age >  20.50\n",
      "|   |   |   |   |   |   |   |   |   |   |--- class: 0\n",
      "|   |   |   |   |   |   |   |   |--- Age >  21.50\n",
      "|   |   |   |   |   |   |   |   |   |--- class: 1\n",
      "|   |   |   |   |   |   |--- Age >  29.25\n",
      "|   |   |   |   |   |   |   |--- Age <= 33.00\n",
      "|   |   |   |   |   |   |   |   |--- class: 0\n",
      "|   |   |   |   |   |   |   |--- Age >  33.00\n",
      "|   |   |   |   |   |   |   |   |--- class: 1\n",
      "|   |   |   |   |   |--- Fare >  7.89\n",
      "|   |   |   |   |   |   |--- Age <= 17.50\n",
      "|   |   |   |   |   |   |   |--- Age <= 14.75\n",
      "|   |   |   |   |   |   |   |   |--- Fare <= 13.46\n",
      "|   |   |   |   |   |   |   |   |   |--- class: 1\n",
      "|   |   |   |   |   |   |   |   |--- Fare >  13.46\n",
      "|   |   |   |   |   |   |   |   |   |--- class: 0\n",
      "|   |   |   |   |   |   |   |--- Age >  14.75\n",
      "|   |   |   |   |   |   |   |   |--- class: 1\n",
      "|   |   |   |   |   |   |--- Age >  17.50\n",
      "|   |   |   |   |   |   |   |--- Parents/Children Aboard <= 0.50\n",
      "|   |   |   |   |   |   |   |   |--- class: 0\n",
      "|   |   |   |   |   |   |   |--- Parents/Children Aboard >  0.50\n",
      "|   |   |   |   |   |   |   |   |--- Fare <= 11.90\n",
      "|   |   |   |   |   |   |   |   |   |--- class: 1\n",
      "|   |   |   |   |   |   |   |   |--- Fare >  11.90\n",
      "|   |   |   |   |   |   |   |   |   |--- class: 0\n",
      "|   |   |   |   |--- Fare >  14.85\n",
      "|   |   |   |   |   |--- Siblings/Spouses Aboard <= 2.50\n",
      "|   |   |   |   |   |   |--- class: 1\n",
      "|   |   |   |   |   |--- Siblings/Spouses Aboard >  2.50\n",
      "|   |   |   |   |   |   |--- Fare <= 18.46\n",
      "|   |   |   |   |   |   |   |--- class: 1\n",
      "|   |   |   |   |   |   |--- Fare >  18.46\n",
      "|   |   |   |   |   |   |   |--- class: 0\n",
      "|   |   |   |--- Age >  38.00\n",
      "|   |   |   |   |--- Age <= 55.00\n",
      "|   |   |   |   |   |--- class: 0\n",
      "|   |   |   |   |--- Age >  55.00\n",
      "|   |   |   |   |   |--- class: 1\n",
      "|   |   |--- Fare >  23.35\n",
      "|   |   |   |--- Fare <= 31.33\n",
      "|   |   |   |   |--- class: 0\n",
      "|   |   |   |--- Fare >  31.33\n",
      "|   |   |   |   |--- Fare <= 32.88\n",
      "|   |   |   |   |   |--- class: 1\n",
      "|   |   |   |   |--- Fare >  32.88\n",
      "|   |   |   |   |   |--- class: 0\n",
      "|--- Sex >  0.50\n",
      "|   |--- Age <= 10.00\n",
      "|   |   |--- Siblings/Spouses Aboard <= 2.50\n",
      "|   |   |   |--- class: 1\n",
      "|   |   |--- Siblings/Spouses Aboard >  2.50\n",
      "|   |   |   |--- Parents/Children Aboard <= 1.50\n",
      "|   |   |   |   |--- class: 0\n",
      "|   |   |   |--- Parents/Children Aboard >  1.50\n",
      "|   |   |   |   |--- class: 1\n",
      "|   |--- Age >  10.00\n",
      "|   |   |--- Pclass <= 1.50\n",
      "|   |   |   |--- Age <= 36.50\n",
      "|   |   |   |   |--- Fare <= 41.30\n",
      "|   |   |   |   |   |--- Fare <= 15.64\n",
      "|   |   |   |   |   |   |--- class: 0\n",
      "|   |   |   |   |   |--- Fare >  15.64\n",
      "|   |   |   |   |   |   |--- Age <= 28.50\n",
      "|   |   |   |   |   |   |   |--- class: 1\n",
      "|   |   |   |   |   |   |--- Age >  28.50\n",
      "|   |   |   |   |   |   |   |--- Age <= 31.00\n",
      "|   |   |   |   |   |   |   |   |--- Age <= 29.50\n",
      "|   |   |   |   |   |   |   |   |   |--- Fare <= 29.85\n",
      "|   |   |   |   |   |   |   |   |   |   |--- class: 1\n",
      "|   |   |   |   |   |   |   |   |   |--- Fare >  29.85\n",
      "|   |   |   |   |   |   |   |   |   |   |--- class: 0\n",
      "|   |   |   |   |   |   |   |   |--- Age >  29.50\n",
      "|   |   |   |   |   |   |   |   |   |--- class: 0\n",
      "|   |   |   |   |   |   |   |--- Age >  31.00\n",
      "|   |   |   |   |   |   |   |   |--- class: 1\n",
      "|   |   |   |   |--- Fare >  41.30\n",
      "|   |   |   |   |   |--- Parents/Children Aboard <= 1.50\n",
      "|   |   |   |   |   |   |--- Fare <= 379.93\n",
      "|   |   |   |   |   |   |   |--- Fare <= 67.92\n",
      "|   |   |   |   |   |   |   |   |--- Fare <= 54.27\n",
      "|   |   |   |   |   |   |   |   |   |--- class: 0\n",
      "|   |   |   |   |   |   |   |   |--- Fare >  54.27\n",
      "|   |   |   |   |   |   |   |   |   |--- class: 1\n",
      "|   |   |   |   |   |   |   |--- Fare >  67.92\n",
      "|   |   |   |   |   |   |   |   |--- class: 0\n",
      "|   |   |   |   |   |   |--- Fare >  379.93\n",
      "|   |   |   |   |   |   |   |--- class: 1\n",
      "|   |   |   |   |   |--- Parents/Children Aboard >  1.50\n",
      "|   |   |   |   |   |   |--- class: 1\n",
      "|   |   |   |--- Age >  36.50\n",
      "|   |   |   |   |--- Fare <= 30.60\n",
      "|   |   |   |   |   |--- Fare <= 29.25\n",
      "|   |   |   |   |   |   |--- Age <= 38.00\n",
      "|   |   |   |   |   |   |   |--- class: 1\n",
      "|   |   |   |   |   |   |--- Age >  38.00\n",
      "|   |   |   |   |   |   |   |--- Age <= 53.50\n",
      "|   |   |   |   |   |   |   |   |--- Fare <= 26.07\n",
      "|   |   |   |   |   |   |   |   |   |--- class: 0\n",
      "|   |   |   |   |   |   |   |   |--- Fare >  26.07\n",
      "|   |   |   |   |   |   |   |   |   |--- Fare <= 27.52\n",
      "|   |   |   |   |   |   |   |   |   |   |--- class: 1\n",
      "|   |   |   |   |   |   |   |   |   |--- Fare >  27.52\n",
      "|   |   |   |   |   |   |   |   |   |   |--- class: 0\n",
      "|   |   |   |   |   |   |   |--- Age >  53.50\n",
      "|   |   |   |   |   |   |   |   |--- class: 0\n",
      "|   |   |   |   |   |--- Fare >  29.25\n",
      "|   |   |   |   |   |   |--- class: 1\n",
      "|   |   |   |   |--- Fare >  30.60\n",
      "|   |   |   |   |   |--- Siblings/Spouses Aboard <= 0.50\n",
      "|   |   |   |   |   |   |--- class: 0\n",
      "|   |   |   |   |   |--- Siblings/Spouses Aboard >  0.50\n",
      "|   |   |   |   |   |   |--- Fare <= 52.55\n",
      "|   |   |   |   |   |   |   |--- class: 1\n",
      "|   |   |   |   |   |   |--- Fare >  52.55\n",
      "|   |   |   |   |   |   |   |--- Fare <= 86.29\n",
      "|   |   |   |   |   |   |   |   |--- class: 0\n",
      "|   |   |   |   |   |   |   |--- Fare >  86.29\n",
      "|   |   |   |   |   |   |   |   |--- Fare <= 89.55\n",
      "|   |   |   |   |   |   |   |   |   |--- class: 1\n",
      "|   |   |   |   |   |   |   |   |--- Fare >  89.55\n",
      "|   |   |   |   |   |   |   |   |   |--- class: 0\n",
      "|   |   |--- Pclass >  1.50\n",
      "|   |   |   |--- Age <= 32.25\n",
      "|   |   |   |   |--- Age <= 28.75\n",
      "|   |   |   |   |   |--- Fare <= 8.24\n",
      "|   |   |   |   |   |   |--- Fare <= 7.91\n",
      "|   |   |   |   |   |   |   |--- Fare <= 7.79\n",
      "|   |   |   |   |   |   |   |   |--- Age <= 21.50\n",
      "|   |   |   |   |   |   |   |   |   |--- Fare <= 7.23\n",
      "|   |   |   |   |   |   |   |   |   |   |--- class: 0\n",
      "|   |   |   |   |   |   |   |   |   |--- Fare >  7.23\n",
      "|   |   |   |   |   |   |   |   |   |   |--- Fare <= 7.24\n",
      "|   |   |   |   |   |   |   |   |   |   |   |--- truncated branch of depth 2\n",
      "|   |   |   |   |   |   |   |   |   |   |--- Fare >  7.24\n",
      "|   |   |   |   |   |   |   |   |   |   |   |--- truncated branch of depth 5\n",
      "|   |   |   |   |   |   |   |   |--- Age >  21.50\n",
      "|   |   |   |   |   |   |   |   |   |--- Siblings/Spouses Aboard <= 0.50\n",
      "|   |   |   |   |   |   |   |   |   |   |--- Fare <= 7.23\n",
      "|   |   |   |   |   |   |   |   |   |   |   |--- truncated branch of depth 5\n",
      "|   |   |   |   |   |   |   |   |   |   |--- Fare >  7.23\n",
      "|   |   |   |   |   |   |   |   |   |   |   |--- class: 0\n",
      "|   |   |   |   |   |   |   |   |   |--- Siblings/Spouses Aboard >  0.50\n",
      "|   |   |   |   |   |   |   |   |   |   |--- class: 1\n",
      "|   |   |   |   |   |   |   |--- Fare >  7.79\n",
      "|   |   |   |   |   |   |   |   |--- class: 0\n",
      "|   |   |   |   |   |   |--- Fare >  7.91\n",
      "|   |   |   |   |   |   |   |--- Age <= 18.50\n",
      "|   |   |   |   |   |   |   |   |--- class: 1\n",
      "|   |   |   |   |   |   |   |--- Age >  18.50\n",
      "|   |   |   |   |   |   |   |   |--- Siblings/Spouses Aboard <= 0.50\n",
      "|   |   |   |   |   |   |   |   |   |--- Age <= 19.50\n",
      "|   |   |   |   |   |   |   |   |   |   |--- class: 0\n",
      "|   |   |   |   |   |   |   |   |   |--- Age >  19.50\n",
      "|   |   |   |   |   |   |   |   |   |   |--- class: 0\n",
      "|   |   |   |   |   |   |   |   |--- Siblings/Spouses Aboard >  0.50\n",
      "|   |   |   |   |   |   |   |   |   |--- class: 1\n",
      "|   |   |   |   |   |--- Fare >  8.24\n",
      "|   |   |   |   |   |   |--- Pclass <= 2.50\n",
      "|   |   |   |   |   |   |   |--- Age <= 26.50\n",
      "|   |   |   |   |   |   |   |   |--- Fare <= 11.00\n",
      "|   |   |   |   |   |   |   |   |   |--- Age <= 21.00\n",
      "|   |   |   |   |   |   |   |   |   |   |--- Age <= 17.50\n",
      "|   |   |   |   |   |   |   |   |   |   |   |--- class: 0\n",
      "|   |   |   |   |   |   |   |   |   |   |--- Age >  17.50\n",
      "|   |   |   |   |   |   |   |   |   |   |   |--- class: 0\n",
      "|   |   |   |   |   |   |   |   |   |--- Age >  21.00\n",
      "|   |   |   |   |   |   |   |   |   |   |--- class: 0\n",
      "|   |   |   |   |   |   |   |   |--- Fare >  11.00\n",
      "|   |   |   |   |   |   |   |   |   |--- class: 0\n",
      "|   |   |   |   |   |   |   |--- Age >  26.50\n",
      "|   |   |   |   |   |   |   |   |--- Age <= 27.50\n",
      "|   |   |   |   |   |   |   |   |   |--- class: 1\n",
      "|   |   |   |   |   |   |   |   |--- Age >  27.50\n",
      "|   |   |   |   |   |   |   |   |   |--- class: 0\n",
      "|   |   |   |   |   |   |--- Pclass >  2.50\n",
      "|   |   |   |   |   |   |   |--- class: 0\n",
      "|   |   |   |   |--- Age >  28.75\n",
      "|   |   |   |   |   |--- Pclass <= 2.50\n",
      "|   |   |   |   |   |   |--- Fare <= 19.50\n",
      "|   |   |   |   |   |   |   |--- class: 0\n",
      "|   |   |   |   |   |   |--- Fare >  19.50\n",
      "|   |   |   |   |   |   |   |--- Fare <= 26.86\n",
      "|   |   |   |   |   |   |   |   |--- class: 1\n",
      "|   |   |   |   |   |   |   |--- Fare >  26.86\n",
      "|   |   |   |   |   |   |   |   |--- class: 0\n",
      "|   |   |   |   |   |--- Pclass >  2.50\n",
      "|   |   |   |   |   |   |--- Fare <= 8.93\n",
      "|   |   |   |   |   |   |   |--- Age <= 29.50\n",
      "|   |   |   |   |   |   |   |   |--- Fare <= 7.83\n",
      "|   |   |   |   |   |   |   |   |   |--- class: 1\n",
      "|   |   |   |   |   |   |   |   |--- Fare >  7.83\n",
      "|   |   |   |   |   |   |   |   |   |--- class: 0\n",
      "|   |   |   |   |   |   |   |--- Age >  29.50\n",
      "|   |   |   |   |   |   |   |   |--- Age <= 31.50\n",
      "|   |   |   |   |   |   |   |   |   |--- class: 0\n",
      "|   |   |   |   |   |   |   |   |--- Age >  31.50\n",
      "|   |   |   |   |   |   |   |   |   |--- Fare <= 7.91\n",
      "|   |   |   |   |   |   |   |   |   |   |--- class: 0\n",
      "|   |   |   |   |   |   |   |   |   |--- Fare >  7.91\n",
      "|   |   |   |   |   |   |   |   |   |   |--- Fare <= 8.21\n",
      "|   |   |   |   |   |   |   |   |   |   |   |--- truncated branch of depth 2\n",
      "|   |   |   |   |   |   |   |   |   |   |--- Fare >  8.21\n",
      "|   |   |   |   |   |   |   |   |   |   |   |--- class: 0\n",
      "|   |   |   |   |   |   |--- Fare >  8.93\n",
      "|   |   |   |   |   |   |   |--- Age <= 31.00\n",
      "|   |   |   |   |   |   |   |   |--- Fare <= 16.82\n",
      "|   |   |   |   |   |   |   |   |   |--- class: 1\n",
      "|   |   |   |   |   |   |   |   |--- Fare >  16.82\n",
      "|   |   |   |   |   |   |   |   |   |--- class: 0\n",
      "|   |   |   |   |   |   |   |--- Age >  31.00\n",
      "|   |   |   |   |   |   |   |   |--- class: 1\n",
      "|   |   |   |--- Age >  32.25\n",
      "|   |   |   |   |--- Age <= 38.50\n",
      "|   |   |   |   |   |--- class: 0\n",
      "|   |   |   |   |--- Age >  38.50\n",
      "|   |   |   |   |   |--- Fare <= 7.91\n",
      "|   |   |   |   |   |   |--- class: 0\n",
      "|   |   |   |   |   |--- Fare >  7.91\n",
      "|   |   |   |   |   |   |--- Fare <= 7.99\n",
      "|   |   |   |   |   |   |   |--- class: 0\n",
      "|   |   |   |   |   |   |--- Fare >  7.99\n",
      "|   |   |   |   |   |   |   |--- Age <= 59.50\n",
      "|   |   |   |   |   |   |   |   |--- Age <= 46.00\n",
      "|   |   |   |   |   |   |   |   |   |--- Age <= 44.50\n",
      "|   |   |   |   |   |   |   |   |   |   |--- Pclass <= 2.50\n",
      "|   |   |   |   |   |   |   |   |   |   |   |--- truncated branch of depth 3\n",
      "|   |   |   |   |   |   |   |   |   |   |--- Pclass >  2.50\n",
      "|   |   |   |   |   |   |   |   |   |   |   |--- class: 0\n",
      "|   |   |   |   |   |   |   |   |   |--- Age >  44.50\n",
      "|   |   |   |   |   |   |   |   |   |   |--- class: 1\n",
      "|   |   |   |   |   |   |   |   |--- Age >  46.00\n",
      "|   |   |   |   |   |   |   |   |   |--- class: 0\n",
      "|   |   |   |   |   |   |   |--- Age >  59.50\n",
      "|   |   |   |   |   |   |   |   |--- Age <= 64.00\n",
      "|   |   |   |   |   |   |   |   |   |--- class: 1\n",
      "|   |   |   |   |   |   |   |   |--- Age >  64.00\n",
      "|   |   |   |   |   |   |   |   |   |--- class: 0\n",
      "\n"
     ]
    }
   ],
   "source": [
    "print(export_text_sk(clf_sk, feature_names=['Pclass', 'Sex', 'Age', 'Siblings/Spouses Aboard', 'Parents/Children Aboard', 'Fare']))"
   ]
  },
  {
   "cell_type": "code",
   "execution_count": 38,
   "metadata": {},
   "outputs": [
    {
     "data": {
      "text/plain": [
       "array([ True,  True,  True,  True,  True,  True,  True,  True,  True,\n",
       "        True,  True,  True,  True,  True,  True,  True,  True,  True,\n",
       "        True,  True,  True,  True,  True,  True,  True,  True,  True,\n",
       "        True,  True,  True,  True, False,  True, False,  True,  True,\n",
       "        True,  True,  True,  True,  True,  True, False,  True,  True,\n",
       "        True,  True,  True,  True,  True,  True,  True,  True,  True,\n",
       "        True,  True,  True,  True,  True,  True,  True,  True,  True,\n",
       "        True,  True,  True,  True,  True,  True,  True, False,  True,\n",
       "        True,  True,  True,  True,  True,  True,  True,  True,  True,\n",
       "        True,  True,  True,  True,  True,  True,  True,  True,  True,\n",
       "        True,  True,  True,  True,  True,  True,  True,  True,  True,\n",
       "        True,  True,  True,  True,  True,  True,  True,  True,  True,\n",
       "        True,  True,  True,  True,  True,  True,  True,  True,  True,\n",
       "        True,  True,  True,  True,  True,  True,  True,  True,  True,\n",
       "        True,  True, False,  True, False,  True,  True,  True,  True,\n",
       "        True,  True, False,  True,  True,  True,  True,  True,  True,\n",
       "        True,  True,  True,  True,  True,  True,  True,  True,  True,\n",
       "        True,  True,  True,  True, False, False,  True, False,  True,\n",
       "        True,  True,  True,  True,  True,  True,  True,  True,  True,\n",
       "        True,  True,  True,  True,  True,  True,  True,  True,  True,\n",
       "        True,  True,  True,  True,  True,  True,  True,  True,  True,\n",
       "        True,  True,  True,  True,  True,  True,  True,  True,  True,\n",
       "        True,  True,  True, False,  True,  True,  True,  True,  True,\n",
       "        True,  True,  True, False,  True,  True,  True,  True,  True,\n",
       "        True,  True,  True,  True,  True,  True,  True,  True,  True,\n",
       "        True,  True,  True,  True,  True,  True,  True,  True,  True,\n",
       "        True,  True,  True,  True,  True,  True,  True,  True,  True,\n",
       "       False,  True, False,  True,  True,  True,  True,  True,  True,\n",
       "        True,  True,  True,  True,  True, False,  True,  True,  True,\n",
       "        True,  True,  True,  True,  True,  True,  True,  True,  True,\n",
       "        True,  True,  True,  True,  True,  True,  True,  True,  True,\n",
       "        True,  True,  True,  True,  True,  True,  True,  True,  True,\n",
       "        True,  True,  True,  True,  True,  True,  True,  True,  True,\n",
       "        True,  True,  True,  True,  True,  True,  True,  True,  True,\n",
       "        True,  True,  True,  True,  True,  True,  True,  True,  True,\n",
       "        True,  True,  True,  True,  True,  True,  True,  True,  True,\n",
       "        True,  True,  True,  True,  True,  True,  True,  True,  True,\n",
       "        True,  True,  True,  True,  True, False,  True,  True,  True,\n",
       "        True,  True,  True,  True,  True,  True,  True,  True,  True,\n",
       "        True,  True,  True, False,  True,  True,  True,  True,  True,\n",
       "        True,  True,  True,  True,  True,  True,  True,  True, False,\n",
       "        True,  True,  True,  True,  True,  True,  True,  True,  True,\n",
       "        True,  True,  True,  True,  True,  True,  True,  True,  True,\n",
       "        True,  True,  True,  True,  True,  True,  True,  True,  True,\n",
       "        True,  True,  True,  True,  True,  True,  True,  True,  True,\n",
       "        True,  True,  True,  True,  True,  True,  True,  True,  True,\n",
       "       False,  True,  True,  True,  True,  True,  True,  True,  True,\n",
       "        True,  True,  True,  True,  True,  True,  True,  True,  True,\n",
       "        True,  True,  True,  True,  True,  True,  True,  True,  True,\n",
       "        True,  True,  True])"
      ]
     },
     "execution_count": 38,
     "metadata": {},
     "output_type": "execute_result"
    }
   ],
   "source": [
    "y_pred == y_pred_sk"
   ]
  },
  {
   "cell_type": "code",
   "execution_count": 39,
   "metadata": {},
   "outputs": [],
   "source": [
    "from sklearn.metrics import accuracy_score"
   ]
  },
  {
   "cell_type": "code",
   "execution_count": 40,
   "metadata": {},
   "outputs": [
    {
     "data": {
      "text/plain": [
       "0.7612612612612613"
      ]
     },
     "execution_count": 40,
     "metadata": {},
     "output_type": "execute_result"
    }
   ],
   "source": [
    "accuracy_score(y_pred, y_test)"
   ]
  },
  {
   "cell_type": "code",
   "execution_count": 41,
   "metadata": {},
   "outputs": [
    {
     "data": {
      "text/plain": [
       "0.7545045045045045"
      ]
     },
     "execution_count": 41,
     "metadata": {},
     "output_type": "execute_result"
    }
   ],
   "source": [
    "accuracy_score(y_pred_sk, y_test)"
   ]
  }
 ],
 "metadata": {
  "kernelspec": {
   "display_name": "Python 3",
   "language": "python",
   "name": "python3"
  },
  "language_info": {
   "codemirror_mode": {
    "name": "ipython",
    "version": 3
   },
   "file_extension": ".py",
   "mimetype": "text/x-python",
   "name": "python",
   "nbconvert_exporter": "python",
   "pygments_lexer": "ipython3",
   "version": "3.8.3"
  }
 },
 "nbformat": 4,
 "nbformat_minor": 4
}
